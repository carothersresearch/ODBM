{
 "cells": [
  {
   "cell_type": "code",
   "execution_count": 1,
   "metadata": {},
   "outputs": [
    {
     "name": "stderr",
     "output_type": "stream",
     "text": [
      "C:\\Users\\dex36\\miniconda2\\envs\\ODBM\\lib\\site-packages\\numpy\\_distributor_init.py:32: UserWarning: loaded more than 1 DLL from .libs:\n",
      "C:\\Users\\dex36\\miniconda2\\envs\\ODBM\\lib\\site-packages\\numpy\\.libs\\libopenblas.QVLO2T66WEPI7JZ63PS3HMOHFEY472BC.gfortran-win_amd64.dll\n",
      "C:\\Users\\dex36\\miniconda2\\envs\\ODBM\\lib\\site-packages\\numpy\\.libs\\libopenblas.WCDJNK7YVMPZQ2ME2ZZHJJRJ3JIKNDB7.gfortran-win_amd64.dll\n",
      "  stacklevel=1)\n"
     ]
    }
   ],
   "source": [
    "%reload_ext autoreload\n",
    "%autoreload 2\n",
    "import pandas as pd\n",
    "import numpy as np\n",
    "import tellurium as te\n",
    "from odbm.odbm import ModelBuilder, ModelHandler\n",
    "import matplotlib.pyplot as plt\n",
    "from odbm.vis import *\n",
    "from odbm.utils import extractParams, fmt, getStoich\n",
    "import itertools\n"
   ]
  },
  {
   "cell_type": "code",
   "execution_count": 2,
   "metadata": {},
   "outputs": [],
   "source": [
    "excel_model = 'multi_enzyme_model_regeneration.xlsx'\n",
    "model_species = pd.read_excel('Examples/'+excel_model, sheet_name = 'Species & Base Mechanisms', engine = 'openpyxl').dropna('index','all')\n",
    "model_rxns = pd.read_excel('Examples/'+excel_model, sheet_name = 'Reaction', engine = 'openpyxl').dropna('index','all')"
   ]
  },
  {
   "cell_type": "code",
   "execution_count": 3,
   "metadata": {},
   "outputs": [],
   "source": [
    "expression_limit = 0.05\n",
    "\n",
    "DNA = 1e-6 # mM\n",
    "init_serine_txtl = 5 #mM\n",
    "lifetime = 8 * 3600 # s\n",
    "integral_serine = init_serine_txtl * lifetime /2 #mM*s\n",
    "\n",
    "k_TXTL = expression_limit/(DNA*integral_serine) # 1/nM*s\n",
    "\n",
    "k_TXTL_2 =  expression_limit/(DNA * lifetime * 0.025) # from Pi inhibition\n",
    "# https://www.wolframalpha.com/input/?i=integral+of+1-e%5E%28-x%2F0.1%29+from+0+to+1\n",
    "\n",
    "avg_res = 300 # average number of residues\n",
    "pi_prod = 5 # Pi produced per residue\n",
    "pi_fudge = 1\n",
    "\n",
    "max_Pi = expression_limit*avg_res*pi_prod*pi_fudge # max mM of Pi\n",
    "\n",
    "constant_params = {'k_TXTL': k_TXTL_2, 'maxC_Pi_P2': max_Pi}"
   ]
  },
  {
   "cell_type": "code",
   "execution_count": 4,
   "metadata": {},
   "outputs": [],
   "source": [
    "solubilities = {    'ATP' : 98.619,\n",
    "                    'Serine': 2380.952,\n",
    "                    'HCO3' : 1470.588,\n",
    "                    'NADH' : 150.739 \n",
    "                }\n",
    "sol_fudge = 1/20\n",
    "solubilities = {k:v*sol_fudge for k,v in solubilities.items()}\n",
    "solubilities['Serine'] = min(solubilities.values())\n",
    "\n",
    "for k,v in solubilities.items():\n",
    "    model_species.loc[model_species['Label'] == k,'StartingConc'] = v\n",
    "\n",
    "constant_params['maxC_ATP_C0'] = solubilities['ATP']\n",
    "constant_params['maxC_NADH_C0'] = solubilities['NADH']\n",
    "# better to just look at OG papers"
   ]
  },
  {
   "cell_type": "code",
   "execution_count": 5,
   "metadata": {},
   "outputs": [],
   "source": [
    "N = 1000*64\n",
    "init_serine = {'SERINE':10**np.random.uniform(np.log10(solubilities['Serine']/5), np.log10(solubilities['Serine']*4), N)}\n",
    "#plt.hist(serine.values())"
   ]
  },
  {
   "cell_type": "code",
   "execution_count": 6,
   "metadata": {},
   "outputs": [],
   "source": [
    "sdaV = list(map(lambda x:x.upper(),model_species[['Sda' in s for s in model_species['Label']]]['Label']))[:4]\n",
    "pcxV = list(map(lambda x:x.upper(),model_species[['PCX' in s for s in model_species['Label']]]['Label']))[:4]\n",
    "mdhV = list(map(lambda x:x.upper(),model_species[['Mdh' in s for s in model_species['Label']]]['Label']))[:4]\n",
    "\n",
    "picks = np.random.randint(4, size = (3,N))\n",
    "filter = np.zeros((4,3,N))\n",
    "\n",
    "for i in range(3):\n",
    "    filter[picks[i,:],i,np.arange(N)] = 1\n",
    "\n",
    "init_DNA = dict(zip(['DNA_'+d for d in sdaV+pcxV+mdhV], (10**np.random.uniform(np.log10(1/20000000), np.log10(1/100000),size = filter.shape)*filter).reshape((12,N),order = 'F')))"
   ]
  },
  {
   "cell_type": "code",
   "execution_count": 7,
   "metadata": {},
   "outputs": [],
   "source": [
    "fluxes = {'Pyruvate': 12.478089, 'Serine': 1.678, 'Malate': 6.267} #units of mmol/gDW*hr\n",
    "amounts = {'Pyruvate': 0.39, 'Serine': 0.068, 'Malate': 1.7} #units of mmol/gDW*hr\n",
    "\n",
    "prot_dilution_factor = 25*100\n",
    "\n",
    "def convertFlux(fluxes):\n",
    "    new_fluxes = {}\n",
    "    for f in fluxes:\n",
    "        new_fluxes[f] = (fluxes[f]*(3E-13)/(1E-15))/prot_dilution_factor/3600/amounts[f]\n",
    "    return new_fluxes\n",
    "\n",
    "new_fluxes = convertFlux(fluxes)\n",
    "\n",
    "keys = {'Pyruvate': 'k_R14', 'Serine': 'k_R13', 'Malate': 'k_R15'}\n",
    "siphon = {k:v for k,v in zip([keys[ky] for ky in new_fluxes.keys()], [10**np.random.uniform(np.log10(s/31), np.log10(s*31), N) for s in new_fluxes.values()])}"
   ]
  },
  {
   "cell_type": "code",
   "execution_count": 8,
   "metadata": {},
   "outputs": [],
   "source": [
    "keys = {'ATP': 'k_R28', 'NADH': 'k_R29'}\n",
    "\n",
    "K = min(new_fluxes.values())*25\n",
    "regen = lambda x: {k:v for k,v in zip(keys.values(), [10**np.random.uniform(np.log10(K/31), np.log10(K*31), N)*x for s in keys.values()])}"
   ]
  },
  {
   "cell_type": "code",
   "execution_count": 9,
   "metadata": {},
   "outputs": [],
   "source": [
    "modelfile = 'Examples/'+excel_model[:-4]+'txt'\n",
    "myModel = ModelBuilder(model_species, model_rxns)\n",
    "myModel.saveModel(modelfile)\n",
    "\n",
    "with open(modelfile,'r') as m:\n",
    "    MH = ModelHandler(m.read())\n",
    "\n",
    "selections = list(map(fmt, myModel.species['Label'])) + list(myModel.rxns['Label']) + ['time']\n",
    "MH.setSimParams(0,12*60*60,200, selections=selections)\n",
    "\n",
    "MH.setConstantParams(constant_params)\n",
    "\n",
    "serine_mw = 105.09\n",
    "malate_mw = 134.0874\n",
    "yld = lambda x: ((max(x['MALICACID'])*malate_mw)/(x['SERINE'][0]*serine_mw)*1000)\n",
    "amt = lambda x: (max(x['MALICACID']))*malate_mw/1000 # g/L\n",
    "\n",
    "etot = []\n",
    "for es in [sdaV,pcxV,mdhV]:\n",
    "    etot.append(lambda x: sum([max(x['DNA_'+e]) for e in es]))\n"
   ]
  },
  {
   "cell_type": "code",
   "execution_count": 10,
   "metadata": {},
   "outputs": [],
   "source": [
    "allM = []\n",
    "for i in [0,1]:\n",
    "    params = {**siphon,**init_serine, **init_DNA, **regen(i)}\n",
    "    MH.setParameterScan(params)\n",
    "    results, metrics = MH.sensitivityAnalysis(metrics = [yld,amt,*etot])\n",
    "    parray = MH.conditions\n",
    "\n",
    "    allM.append(metrics)\n"
   ]
  },
  {
   "cell_type": "code",
   "execution_count": 11,
   "metadata": {},
   "outputs": [
    {
     "name": "stdout",
     "output_type": "stream",
     "text": [
      "[634.7361016955786, 323.65888203180134, 1252.1579007186365]\n",
      "[727.3341702755655, 326.77137681949654, 1257.3916638547014]\n",
      "[0.334786509093541, 0.21474805669937902, 0.6607175457364196]\n",
      "[0.43503873193568104, 0.37953112475690076, 2.5214304094837097]\n"
     ]
    },
    {
     "data": {
      "image/png": "[encoded data removed]",
      "text/plain": [
       "<Figure size 432x288 with 1 Axes>"
      ]
     },
     "metadata": {
      "needs_background": "light"
     },
     "output_type": "display_data"
    },
    {
     "data": {
      "image/png": "[encoded data removed]",
      "text/plain": [
       "<Figure size 432x288 with 1 Axes>"
      ]
     },
     "metadata": {
      "needs_background": "light"
     },
     "output_type": "display_data"
    }
   ],
   "source": [
    "for i,t in enumerate(['Yield (mg malate/g serine)','Amount (g/L malate)']):\n",
    "    plt.figure()\n",
    "    num_bins = 15\n",
    "    for m in allM:\n",
    "        #plt.hist(m[:,i], bins = 20, alpha = 0.5, density = True)\n",
    "        mmax = max([m[:,i].max() for m in allM])\n",
    "        mmin = min([m[:,i].min() for m in allM])\n",
    "        bins = np.linspace(mmin, mmax,num_bins+1)\n",
    "        counts, _ = np.histogram(m[:,i], bins = bins)\n",
    "        bins = bins[:-1] + (bins[1] - bins[0])/2\n",
    "        probs = counts/float(counts.sum())\n",
    "        plt.bar(bins, probs, width=(mmax-mmin)/num_bins*0.95, alpha = 0.5)\n",
    "\n",
    "        print([m[:,i].mean(), m[:,i].std(), np.max(m[:,i])])\n",
    "    plt.plot([0],[0], alpha = 0)\n",
    "    plt.ylim([0,max(probs)*1.25])\n",
    "    plt.legend(['$N$ = '+str(N),'wo/ cofactor regen.', 'w/ cofactor regen.'], frameon = False, borderpad = 0)\n",
    "    plt.ylabel('pmf', fontsize = 12, labelpad = 7)\n",
    "    plt.xlabel(t, fontsize = 12, labelpad = 10)"
   ]
  },
  {
   "cell_type": "code",
   "execution_count": null,
   "metadata": {},
   "outputs": [],
   "source": [
    "plt.scatter(allM[1][:,1],allM[1][:,0], marker = '.', alpha = 0.3)\n",
    "plt.scatter(allM[0][:,1],allM[0][:,0], marker = '.', alpha = 0.3)\n",
    "\n"
   ]
  },
  {
   "cell_type": "code",
   "execution_count": null,
   "metadata": {},
   "outputs": [],
   "source": [
    "df = pd.DataFrame({**params,'yld':ylds})\n",
    "(df.corr()['yld'][params.keys()]).plot(kind = 'bar', legend = False, rot = 75)"
   ]
  },
  {
   "cell_type": "code",
   "execution_count": null,
   "metadata": {},
   "outputs": [],
   "source": [
    "var_names = (['DNA_'+d for d in sdaV+pcxV+mdhV])\n",
    "corr_list = []\n",
    "for idx,v in enumerate(var_names):\n",
    "    temp_df = df.loc[df[v] != 0]\n",
    "    corr_list.append(temp_df.corr()['yld'][params.keys()][idx+4])\n"
   ]
  },
  {
   "cell_type": "code",
   "execution_count": null,
   "metadata": {},
   "outputs": [],
   "source": [
    "plt.bar(np.arange(12),corr_list)"
   ]
  },
  {
   "cell_type": "code",
   "execution_count": null,
   "metadata": {},
   "outputs": [],
   "source": [
    "df = pd.DataFrame(parray, columns=params.keys())\n",
    "df['yld'] = ylds\n",
    "\n",
    "(df[df['DNA_'+sdaV[0]]>0].corr()['yld'][params.keys()]).plot(kind = 'bar', legend = False, rot = 75)"
   ]
  },
  {
   "cell_type": "code",
   "execution_count": null,
   "metadata": {},
   "outputs": [],
   "source": [
    "import plotly.express as px\n",
    "total = (MH.conditions[:,4:].sum(1))\n",
    "stats = (MH.conditions[:,4:8].sum(1))/total\n",
    "bus = (MH.conditions[:,8:12].sum(1))/total\n",
    "design = (MH.conditions[:,12:].sum(1))/total\n",
    "df = pd.DataFrame({'Sda':stats, 'PCX':bus, 'Mdh':design, \"Yield\": ylds})\n",
    "fig = px.scatter_ternary(df, a=\"Sda\", b=\"PCX\", c=\"Mdh\", opacity =0.05, color = \"Yield\", size = np.ones(N), size_max=25)\n",
    "fig.show()"
   ]
  },
  {
   "cell_type": "code",
   "execution_count": null,
   "metadata": {},
   "outputs": [],
   "source": [
    "[plt.plot(r['time'],r['SERINE'], alpha = 1/60, color = 'r') for r in results]\n",
    "plt.xlim([0,1000])"
   ]
  },
  {
   "cell_type": "code",
   "execution_count": null,
   "metadata": {},
   "outputs": [],
   "source": [
    "plt.hist(metrics[:,2:].sum(1))"
   ]
  },
  {
   "cell_type": "code",
   "execution_count": null,
   "metadata": {},
   "outputs": [],
   "source": [
    "x = [np.random.rand() for r in range(1000)]\n",
    "num_bins = 10\n",
    "counts, bins = np.histogram(x, bins=num_bins)\n",
    "bins = bins[:-1] + (bins[1] - bins[0])/2\n",
    "probs = counts/float(counts.sum())\n",
    "plt.bar(bins, probs, 1.0/num_bins)\n",
    "plt.show()"
   ]
  },
  {
   "cell_type": "code",
   "execution_count": null,
   "metadata": {},
   "outputs": [],
   "source": []
  }
 ],
 "metadata": {
  "interpreter": {
   "hash": "755dde02eea23f4a8c162cda7a56ff393ac89ba42167493bc1bda740cb5369e9"
  },
  "kernelspec": {
   "display_name": "Python 3.6.13 64-bit ('ODBM': conda)",
   "name": "python3"
  },
  "language_info": {
   "codemirror_mode": {
    "name": "ipython",
    "version": 3
   },
   "file_extension": ".py",
   "mimetype": "text/x-python",
   "name": "python",
   "nbconvert_exporter": "python",
   "pygments_lexer": "ipython3",
   "version": "3.6.13"
  }
 },
 "nbformat": 4,
 "nbformat_minor": 4
}
