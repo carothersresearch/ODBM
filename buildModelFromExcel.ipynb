{
 "cells": [
  {
   "cell_type": "code",
   "execution_count": 4,
   "metadata": {},
   "outputs": [],
   "source": [
    "import pandas as pd\n",
    "import numpy as np\n",
    "import tellurium as te"
   ]
  },
  {
   "cell_type": "code",
   "execution_count": 19,
   "metadata": {},
   "outputs": [],
   "source": [
    "model_species = pd.read_excel('C:/Users/rycar/Desktop/UW/BIOEN 537/model_definition_BIOEN537.xlsx', sheet_name = 'Species')\n",
    "model_rxns = pd.read_excel('C:/Users/rycar/Desktop/UW/BIOEN 537/model_definition_BIOEN537.xlsx', sheet_name = 'Reaction')\n"
   ]
  },
  {
   "cell_type": "code",
   "execution_count": 51,
   "metadata": {},
   "outputs": [],
   "source": [
    "#check mechanism\n",
    "\n",
    "#check if a concentration is held constant\n",
    "\n",
    "#function to add events\n"
   ]
  },
  {
   "cell_type": "code",
   "execution_count": 91,
   "metadata": {},
   "outputs": [],
   "source": [
    "#def initializeValues(model_species, model_rxns):\n",
    "\n",
    "model_str = ''\n",
    "model_str += '#Initialize concentrations \\n'\n",
    "for sp in model_species.iterrows():\n",
    "    model_str += (sp[1]['Label'] +'=' + str(sp[1]['Starting Conc']) + '; \\n')\n",
    "    \n",
    "model_str += '\\n#Initialize kinetic values \\n'\n",
    "for rxn in model_rxns.iterrows():\n",
    "    if not pd.isnull(model_rxns.iloc[rxn[0]]['K1']):\n",
    "        #initialize value\n",
    "        model_str += ('K1_'+rxn[1]['Label'] +'=' + str(rxn[1]['K1']) + '; \\n')\n",
    "    if not pd.isnull(model_rxns.iloc[rxn[0]]['K2']):\n",
    "        model_str += ('K2_'+rxn[1]['Label'] +'=' + str(rxn[1]['K2']) + '; \\n')\n",
    "    if not pd.isnull(model_rxns.iloc[rxn[0]]['K2']):\n",
    "        model_str += ('K3_'+rxn[1]['Label'] +'=' + str(rxn[1]['K3']) + '; \\n')\n",
    "\n",
    "with open('model.txt', 'w') as f:\n",
    "    f.write(model_str)\n",
    "    "
   ]
  },
  {
   "cell_type": "code",
   "execution_count": 89,
   "metadata": {},
   "outputs": [],
   "source": [
    "def writeReactions():"
   ]
  },
  {
   "cell_type": "code",
   "execution_count": null,
   "metadata": {},
   "outputs": [],
   "source": [
    "def addEvents():"
   ]
  },
  {
   "cell_type": "code",
   "execution_count": 94,
   "metadata": {},
   "outputs": [],
   "source": [
    "rxn_str = '\\n #Define reactions \\n'\n",
    "for rxn in model_rxns.iterrows():\n",
    "    if rxn[1]['Mechanism'] == 'MA':\n",
    "        if str(rxn[1]['Enzyme']) != 'nan':\n",
    "            # mass action kinetics\n",
    "            for r in rxn[1]['Reactant'].split(','):\n",
    "                rxn_str += r + ' +'\n",
    "            rxn_str = rxn_str[:-2] + ' + ' + rxn[1]['Enzyme'] + ' -> '\n",
    "            for p in rxn[1]['Product'].split(','):\n",
    "                rxn_str += p + ' +'\n",
    "            rxn_str = rxn_str[:-2] + ' + ' + rxn[1]['Enzyme'] + '; '   \n",
    "            rxn_str += 'K1_' + rxn[1]['Label']\n",
    "            for p in rxn[1]['Product'].split(','):\n",
    "                rxn_str += '*' + p \n",
    "            rxn_str += ' \\n'\n",
    "        else:\n",
    "            for r in rxn[1]['Reactant'].split(','):\n",
    "                rxn_str += r + ' +'\n",
    "            rxn_str = rxn_str[:-2] + ' -> '\n",
    "            for p in rxn[1]['Product'].split(','):\n",
    "                rxn_str += p + ' +'\n",
    "            rxn_str = rxn_str[:-2] + '; '\n",
    "            rxn_str += 'K1_' + rxn[1]['Label']\n",
    "            for p in rxn[1]['Product'].split(','):\n",
    "                rxn_str += '*' + p \n",
    "            rxn_str += ' \\n'\n",
    "\n",
    "            "
   ]
  },
  {
   "cell_type": "code",
   "execution_count": 93,
   "metadata": {},
   "outputs": [],
   "source": [
    "with open('model.txt', 'a') as f:\n",
    "    f.write(rxn_str)\n",
    "    "
   ]
  },
  {
   "cell_type": "code",
   "execution_count": 83,
   "metadata": {},
   "outputs": [],
   "source": [
    "rxn_str = ''\n",
    "for p in rxn[1]['Product'].split(','):\n",
    "    rxn_str += p + ' +'\n",
    "rxn_str = rxn_str[:-2] + '; '\n",
    "rxn_str += 'K1_' + rxn[1]['Label']\n",
    "for p in rxn[1]['Product'].split(','):\n",
    "    rxn_str += '*' + p "
   ]
  },
  {
   "cell_type": "code",
   "execution_count": 6,
   "metadata": {},
   "outputs": [
    {
     "ename": "Exception",
     "evalue": "Antimony: Error in model string, line 7:  syntax error, unexpected '=', expecting text string",
     "output_type": "error",
     "traceback": [
      "\u001b[1;31m---------------------------------------------------------------------------\u001b[0m",
      "\u001b[1;31mException\u001b[0m                                 Traceback (most recent call last)",
      "\u001b[1;32m<ipython-input-6-0e18a09776b8>\u001b[0m in \u001b[0;36m<module>\u001b[1;34m\u001b[0m\n\u001b[0;32m      1\u001b[0m \u001b[0mmodel\u001b[0m \u001b[1;33m=\u001b[0m \u001b[0mopen\u001b[0m\u001b[1;33m(\u001b[0m\u001b[1;34m'C:/Users/rycar/Documents/GitHub/ODBM/model.txt'\u001b[0m\u001b[1;33m,\u001b[0m\u001b[1;34m'r'\u001b[0m\u001b[1;33m)\u001b[0m\u001b[1;33m.\u001b[0m\u001b[0mread\u001b[0m\u001b[1;33m(\u001b[0m\u001b[1;33m)\u001b[0m\u001b[1;33m\u001b[0m\u001b[1;33m\u001b[0m\u001b[0m\n\u001b[1;32m----> 2\u001b[1;33m \u001b[0mr\u001b[0m  \u001b[1;33m=\u001b[0m \u001b[0mte\u001b[0m\u001b[1;33m.\u001b[0m\u001b[0mloada\u001b[0m\u001b[1;33m(\u001b[0m\u001b[0mmodel\u001b[0m\u001b[1;33m)\u001b[0m\u001b[1;33m\u001b[0m\u001b[1;33m\u001b[0m\u001b[0m\n\u001b[0m",
      "\u001b[1;32m~\\anaconda3\\lib\\site-packages\\tellurium\\tellurium.py\u001b[0m in \u001b[0;36mloada\u001b[1;34m(ant)\u001b[0m\n\u001b[0;32m    517\u001b[0m     \u001b[1;33m:\u001b[0m\u001b[0mrtype\u001b[0m\u001b[1;33m:\u001b[0m \u001b[0mroadrunner\u001b[0m\u001b[1;33m.\u001b[0m\u001b[0mExtendedRoadRunner\u001b[0m\u001b[1;33m\u001b[0m\u001b[1;33m\u001b[0m\u001b[0m\n\u001b[0;32m    518\u001b[0m     \"\"\"\n\u001b[1;32m--> 519\u001b[1;33m     \u001b[1;32mreturn\u001b[0m \u001b[0mloadAntimonyModel\u001b[0m\u001b[1;33m(\u001b[0m\u001b[0mant\u001b[0m\u001b[1;33m)\u001b[0m\u001b[1;33m\u001b[0m\u001b[1;33m\u001b[0m\u001b[0m\n\u001b[0m\u001b[0;32m    520\u001b[0m \u001b[1;33m\u001b[0m\u001b[0m\n\u001b[0;32m    521\u001b[0m \u001b[1;33m\u001b[0m\u001b[0m\n",
      "\u001b[1;32m~\\anaconda3\\lib\\site-packages\\tellurium\\tellurium.py\u001b[0m in \u001b[0;36mloadAntimonyModel\u001b[1;34m(ant)\u001b[0m\n\u001b[0;32m    533\u001b[0m     \u001b[1;33m:\u001b[0m\u001b[0mrtype\u001b[0m\u001b[1;33m:\u001b[0m \u001b[0mroadrunner\u001b[0m\u001b[1;33m.\u001b[0m\u001b[0mExtendedRoadRunner\u001b[0m\u001b[1;33m\u001b[0m\u001b[1;33m\u001b[0m\u001b[0m\n\u001b[0;32m    534\u001b[0m     \"\"\"\n\u001b[1;32m--> 535\u001b[1;33m     \u001b[0msbml\u001b[0m \u001b[1;33m=\u001b[0m \u001b[0mantimonyToSBML\u001b[0m\u001b[1;33m(\u001b[0m\u001b[0mant\u001b[0m\u001b[1;33m)\u001b[0m\u001b[1;33m\u001b[0m\u001b[1;33m\u001b[0m\u001b[0m\n\u001b[0m\u001b[0;32m    536\u001b[0m     \u001b[1;32mreturn\u001b[0m \u001b[0mroadrunner\u001b[0m\u001b[1;33m.\u001b[0m\u001b[0mRoadRunner\u001b[0m\u001b[1;33m(\u001b[0m\u001b[0msbml\u001b[0m\u001b[1;33m)\u001b[0m\u001b[1;33m\u001b[0m\u001b[1;33m\u001b[0m\u001b[0m\n\u001b[0;32m    537\u001b[0m \u001b[1;33m\u001b[0m\u001b[0m\n",
      "\u001b[1;32m~\\anaconda3\\lib\\site-packages\\tellurium\\tellurium.py\u001b[0m in \u001b[0;36mantimonyToSBML\u001b[1;34m(ant)\u001b[0m\n\u001b[0;32m    598\u001b[0m     \u001b[1;32melse\u001b[0m\u001b[1;33m:\u001b[0m\u001b[1;33m\u001b[0m\u001b[1;33m\u001b[0m\u001b[0m\n\u001b[0;32m    599\u001b[0m         \u001b[0mcode\u001b[0m \u001b[1;33m=\u001b[0m \u001b[0mantimony\u001b[0m\u001b[1;33m.\u001b[0m\u001b[0mloadAntimonyString\u001b[0m\u001b[1;33m(\u001b[0m\u001b[0mant\u001b[0m\u001b[1;33m)\u001b[0m\u001b[1;33m\u001b[0m\u001b[1;33m\u001b[0m\u001b[0m\n\u001b[1;32m--> 600\u001b[1;33m     \u001b[0m_checkAntimonyReturnCode\u001b[0m\u001b[1;33m(\u001b[0m\u001b[0mcode\u001b[0m\u001b[1;33m)\u001b[0m\u001b[1;33m\u001b[0m\u001b[1;33m\u001b[0m\u001b[0m\n\u001b[0m\u001b[0;32m    601\u001b[0m     \u001b[0mmid\u001b[0m \u001b[1;33m=\u001b[0m \u001b[0mantimony\u001b[0m\u001b[1;33m.\u001b[0m\u001b[0mgetMainModuleName\u001b[0m\u001b[1;33m(\u001b[0m\u001b[1;33m)\u001b[0m\u001b[1;33m\u001b[0m\u001b[1;33m\u001b[0m\u001b[0m\n\u001b[0;32m    602\u001b[0m     \u001b[1;32mreturn\u001b[0m \u001b[0mantimony\u001b[0m\u001b[1;33m.\u001b[0m\u001b[0mgetSBMLString\u001b[0m\u001b[1;33m(\u001b[0m\u001b[0mmid\u001b[0m\u001b[1;33m)\u001b[0m\u001b[1;33m\u001b[0m\u001b[1;33m\u001b[0m\u001b[0m\n",
      "\u001b[1;32m~\\anaconda3\\lib\\site-packages\\tellurium\\tellurium.py\u001b[0m in \u001b[0;36m_checkAntimonyReturnCode\u001b[1;34m(code)\u001b[0m\n\u001b[0;32m    292\u001b[0m     \"\"\"\n\u001b[0;32m    293\u001b[0m     \u001b[1;32mif\u001b[0m \u001b[0mcode\u001b[0m \u001b[1;33m<\u001b[0m \u001b[1;36m0\u001b[0m\u001b[1;33m:\u001b[0m\u001b[1;33m\u001b[0m\u001b[1;33m\u001b[0m\u001b[0m\n\u001b[1;32m--> 294\u001b[1;33m         \u001b[1;32mraise\u001b[0m \u001b[0mException\u001b[0m\u001b[1;33m(\u001b[0m\u001b[1;34m'Antimony: {}'\u001b[0m\u001b[1;33m.\u001b[0m\u001b[0mformat\u001b[0m\u001b[1;33m(\u001b[0m\u001b[0mantimony\u001b[0m\u001b[1;33m.\u001b[0m\u001b[0mgetLastError\u001b[0m\u001b[1;33m(\u001b[0m\u001b[1;33m)\u001b[0m\u001b[1;33m)\u001b[0m\u001b[1;33m)\u001b[0m\u001b[1;33m\u001b[0m\u001b[1;33m\u001b[0m\u001b[0m\n\u001b[0m\u001b[0;32m    295\u001b[0m \u001b[1;33m\u001b[0m\u001b[0m\n\u001b[0;32m    296\u001b[0m \u001b[1;32mdef\u001b[0m \u001b[0mcolorCycle\u001b[0m\u001b[1;33m(\u001b[0m\u001b[0mcolor\u001b[0m\u001b[1;33m,\u001b[0m\u001b[0mpolyNumber\u001b[0m\u001b[1;33m)\u001b[0m\u001b[1;33m:\u001b[0m\u001b[1;33m\u001b[0m\u001b[1;33m\u001b[0m\u001b[0m\n",
      "\u001b[1;31mException\u001b[0m: Antimony: Error in model string, line 7:  syntax error, unexpected '=', expecting text string"
     ]
    }
   ],
   "source": [
    "model = open('C:/Users/rycar/Documents/GitHub/ODBM/model.txt','r').read()\n",
    "r  = te.loada(model)"
   ]
  },
  {
   "cell_type": "code",
   "execution_count": 2,
   "metadata": {},
   "outputs": [
    {
     "data": {
      "text/plain": [
       "'#Initialize concentrations \\nCO2=10.0; \\nGlycine=10.0; \\nSerine=2.0; \\nNH3=2.0; \\nPyruvic acid=2.0; \\nOxaloacetic acid=2.0; \\nMalic acid=2.0; \\nATP=10.0; \\nAMP=1.0; \\nADP=1.0; \\nNADH=10.0; \\nNAD+=1.0; \\nFdh=2.0; \\nShmt=2.0; \\nSda=2.0; \\nPCX=2.0; \\nMdh=2.0; \\nPPT=2.0; \\nPK=2.0; \\nFdh_DNA=0.2; \\nShmt_DNA=0.2; \\nSda_DNA=0.2; \\nPCX_DNA=0.2; \\nMdh_DNA=0.2; \\nPPT_DNA=0.2; \\nPK_DNA=0.2; \\nRNAP=6.0; \\nRibosome=8.0; \\nFdh_RNA=0.0; \\nShmt_RNA=0.0; \\nSda_RNA=0.0; \\nPCX_RNA=0.0; \\nMdh_RNA=0.0; \\nPPT_RNA=0.0; \\nPK_RNA=0.0; \\n\\n#Initialize kinetic values \\nK1_R1=0.2; \\nK1_R2=1.0; \\nK1_R3=1.0; \\nK1_R4=1.0; \\nK1_R5=0.2; \\nK1_R6=0.2; \\nK1_R7=0.2; \\nK1_R8=3.0; \\nK1_R9=3.0; \\nK1_R10=3.0; \\nK1_R11=3.0; \\nK1_R12=3.0; \\nK1_R13=3.0; \\nK1_R14=3.0; \\nK1_R15=1.0; \\nK1_R16=1.0; \\nK1_R17=1.0; \\nK1_R18=1.0; \\nK1_R19=1.0; \\nK1_R20=1.0; \\nK1_R21=1.0; \\nK1_R22=10.0; \\n#Define reactions \\nGlycine + Shmt -> Serine + Shmt; K1_R1*Serine \\nSerine + Sda -> Pyruvic acid + NH3 + Sda; K1_R2*Pyruvic acid* NH3 \\nPyruvic acid + CO2 + ATP + PCX -> Oxaloacetic acid + ADP + PCX; K1_R3*Oxaloacetic acid* ADP \\nOxaloacetic acid + NADH + Mdh -> Malic acid + NAD+ + Mdh; K1_R4*Malic acid* NAD+ \\nFormate + NAD+ + Fdh -> CO2 + NADH + Fdh; K1_R5*CO2* NADH \\nAMP + PPT -> ADP + PPT; K1_R6*ADP \\nADP + PK -> ATP + PK; K1_R7*ATP \\nFdh_DNA + RNAP -> Fdh_RNA + RNAP; K1_R8*Fdh_RNA \\nShmt_DNA + RNAP -> Shmt_RNA + RNAP; K1_R9*Shmt_RNA \\nSda_DNA + RNAP -> Sda_RNA + RNAP; K1_R10*Sda_RNA \\nPCX_DNA + RNAP -> PCX_RNA + RNAP; K1_R11*PCX_RNA \\nMdh_DNA + RNAP -> Mdh_RNA + RNAP; K1_R12*Mdh_RNA \\nPPT_DNA + RNAP -> PPT_RNA + RNAP; K1_R13*PPT_RNA \\nPK_DNA + RNAP -> PK_RNA + RNAP; K1_R14*PK_RNA \\nFdh_RNA + Ribosome -> Fdh + Ribosome; K1_R15*Fdh \\nShmt_RNA + Ribosome -> Shmt + Ribosome; K1_R16*Shmt \\nSda_RNA + Ribosome -> Sda + Ribosome; K1_R17*Sda \\nPCX_RNA + Ribosome -> PCX + Ribosome; K1_R18*PCX \\nMdh_RNA + Ribosome -> Mdh + Ribosome; K1_R19*Mdh \\nPPT_RNA + Ribosome -> PPT + Ribosome; K1_R20*PPT \\nPK_RNA + Ribosome -> PK + Ribosome; K1_R21*PK \\nt1 + t2 -> t3 + t3; K1_R22*t3* t3 \\n'"
      ]
     },
     "execution_count": 2,
     "metadata": {},
     "output_type": "execute_result"
    }
   ],
   "source": [
    "model"
   ]
  },
  {
   "cell_type": "code",
   "execution_count": null,
   "metadata": {},
   "outputs": [],
   "source": []
  }
 ],
 "metadata": {
  "kernelspec": {
   "display_name": "Python 3",
   "language": "python",
   "name": "python3"
  },
  "language_info": {
   "codemirror_mode": {
    "name": "ipython",
    "version": 3
   },
   "file_extension": ".py",
   "mimetype": "text/x-python",
   "name": "python",
   "nbconvert_exporter": "python",
   "pygments_lexer": "ipython3",
   "version": "3.7.6"
  }
 },
 "nbformat": 4,
 "nbformat_minor": 4
}
