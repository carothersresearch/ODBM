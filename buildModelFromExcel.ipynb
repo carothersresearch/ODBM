{
 "cells": [
  {
   "cell_type": "code",
   "execution_count": 9,
   "metadata": {},
   "outputs": [],
   "source": [
    "%reload_ext autoreload\n",
    "%autoreload 2\n",
    "import pandas as pd\n",
    "import numpy as np\n",
    "import tellurium as te\n",
    "from odbm.odbm import ModelBuilder\n",
    "import matplotlib.pyplot as plt\n",
    "from odbm.vis import rxn_plot\n"
   ]
  },
  {
   "cell_type": "code",
   "execution_count": 10,
   "metadata": {},
   "outputs": [],
   "source": [
    "model_species = pd.read_excel('Examples/multi_enzyme_model.xlsx', sheet_name = 'Species & Base Mechanisms', engine = 'openpyxl')\n",
    "model_rxns = pd.read_excel('Examples/multi_enzyme_model.xlsx', sheet_name = 'Reaction', engine = 'openpyxl')"
   ]
  },
  {
   "cell_type": "code",
   "execution_count": 11,
   "metadata": {},
   "outputs": [],
   "source": [
    "expression_limit = 0.05 \n",
    "N_enzymes = 3\n",
    "expression_fudge = 1/10\n",
    "enzymeInit = expression_limit/N_enzymes*expression_fudge\n",
    "\n",
    "solubilities = {    'ATP' : 98.619,\n",
    "                    'Serine': 2380.952,\n",
    "                    'HCO3' : 1470.588,\n",
    "                    'NADH' : 150.739 \n",
    "                }\n",
    "sol_fudge = 1/20\n",
    "solubilities = {k:v*sol_fudge for k,v in solubilities.items()}\n",
    "\n",
    "for k,v in solubilities.items():\n",
    "    model_species.loc[model_species['Label'] == k,'StartingConc'] = v\n",
    "\n",
    "# this kind of works\n",
    "model_species.loc[model_species['Label'] == 'ATP','Label'] = '$ATP'\n",
    "model_species.loc[model_species['Label'] == 'ATP','StartingConc'] = solubilities['ATP']\n",
    "\n",
    "serine_mw = 105.09\n",
    "malate_mw = 134.0874"
   ]
  },
  {
   "cell_type": "code",
   "execution_count": 12,
   "metadata": {},
   "outputs": [],
   "source": [
    "modelfile = 'Examples/multi_enzyme_model.txt'\n",
    "myModel = ModelBuilder(model_species, model_rxns)\n",
    "myModel.saveModel(modelfile)\n",
    "\n",
    "model = open(modelfile,'r').read()\n",
    "r  = te.loada(model)\n",
    "\n",
    "sdaV = list(map(lambda x:x.upper(),model_species[['Sda' in s for s in model_species['Label']]]['Label']))\n",
    "pcxV = list(map(lambda x:x.upper(),model_species[['PCX' in s for s in model_species['Label']]]['Label']))\n",
    "mdhV = list(map(lambda x:x.upper(),model_species[['Mdh' in s for s in model_species['Label']]]['Label']))"
   ]
  },
  {
   "cell_type": "code",
   "execution_count": 13,
   "metadata": {},
   "outputs": [],
   "source": [
    "results_id = np.empty((len(sdaV), len(pcxV), len(mdhV)), dtype=int)\n",
    "results = []\n",
    "\n",
    "count = 0\n",
    "for i,sda in enumerate(sdaV):\n",
    "    for j,pcx in enumerate(pcxV):\n",
    "        for k,mdh in enumerate(mdhV):\n",
    "            r['['+sda+']'] = enzymeInit\n",
    "            r['['+pcx+']'] = enzymeInit\n",
    "            r['['+mdh+']'] = enzymeInit\n",
    "            results_id[i,j,k] = count\n",
    "            results.append(r.simulate(0,1200,1000))\n",
    "            r.reset()\n",
    "            count += 1"
   ]
  },
  {
   "cell_type": "code",
   "execution_count": 14,
   "metadata": {},
   "outputs": [
    {
     "data": {
      "text/plain": [
       "<matplotlib.legend.Legend at 0x29a041b45c8>"
      ]
     },
     "execution_count": 14,
     "metadata": {},
     "output_type": "execute_result"
    },
    {
     "data": {
      "image/png": "[encoded data removed]",
      "text/plain": [
       "<Figure size 432x288 with 1 Axes>"
      ]
     },
     "metadata": {
      "needs_background": "light"
     },
     "output_type": "display_data"
    }
   ],
   "source": [
    "df = pd.DataFrame(results[0], columns = results[0].colnames)\n",
    "df.round(2)\n",
    "plt.plot(df['time'],df['[SERINE]'],  label = 'Serine')\n",
    "plt.plot(df['time'],df['[MALICACID]'], label = 'Malate')\n",
    "plt.plot(df['time'],df['[OXALOACETICACID]'],  linestyle = 'dotted', label = 'Oxaloacetate')\n",
    "plt.plot(df['time'],df['[PYRUVICACID]'], linestyle = 'dashed', label = 'Pyruvate')\n",
    "\n",
    "plt.xlim(0, 100)\n",
    "plt.ylim(0,50)\n",
    "plt.legend()"
   ]
  },
  {
   "cell_type": "code",
   "execution_count": 15,
   "metadata": {},
   "outputs": [
    {
     "data": {
      "text/plain": [
       "<matplotlib.legend.Legend at 0x29a0d9bb6c8>"
      ]
     },
     "execution_count": 15,
     "metadata": {},
     "output_type": "execute_result"
    },
    {
     "data": {
      "image/png": "[encoded data removed]",
      "text/plain": [
       "<Figure size 432x288 with 1 Axes>"
      ]
     },
     "metadata": {
      "needs_background": "light"
     },
     "output_type": "display_data"
    }
   ],
   "source": [
    "df = pd.DataFrame(results[0], columns = results[0].colnames)\n",
    "df.round(2)\n",
    "plt.plot(df['time'],df['[NADH]'],  label = 'NADH')\n",
    "plt.plot(df['time'],df['[ADP]'], label = 'ADP')\n",
    "plt.plot(df['time'],df['[CO2]'],  linestyle = 'dotted', label = 'CO2')\n",
    "\n",
    "plt.xlim(0, 100)\n",
    "plt.ylim(0,100)\n",
    "plt.legend()"
   ]
  },
  {
   "cell_type": "code",
   "execution_count": 16,
   "metadata": {},
   "outputs": [],
   "source": [
    "\n",
    "# for sim in results[16:24]:\n",
    "#     plt.figure()\n",
    "#     for species in sim[1:]:\n",
    "#         plt.plot(sim[0],species)\n",
    "#     # plt.legend(labels = ['Serine','Pyruvate','Oxaloacetate', 'Malate'])\n",
    "\n"
   ]
  },
  {
   "cell_type": "code",
   "execution_count": 22,
   "metadata": {},
   "outputs": [
    {
     "data": {
      "text/plain": [
       "(<Figure size 1152x288 with 3 Axes>,\n",
       " array([<matplotlib.axes._subplots.AxesSubplot object at 0x0000029A0EF2EAC8>,\n",
       "        <matplotlib.axes._subplots.AxesSubplot object at 0x0000029A0EF62288>,\n",
       "        <matplotlib.axes._subplots.AxesSubplot object at 0x0000029A0EDC0A08>],\n",
       "       dtype=object))"
      ]
     },
     "execution_count": 22,
     "metadata": {},
     "output_type": "execute_result"
    },
    {
     "data": {
      "image/png": "[encoded data removed]",
      "text/plain": [
       "<Figure size 1152x288 with 3 Axes>"
      ]
     },
     "metadata": {
      "needs_background": "light"
     },
     "output_type": "display_data"
    }
   ],
   "source": [
    "variants = (0,0,0) #define combination of variants to plot\n",
    "v_labels = [v[k] for v,k in zip([sdaV, pcxV, mdhV], variants)] #get variant names\n",
    "run = int(results_id[variants]) #return simulation run  # in which that combination was tested\n",
    "rxn_idx = [int(variants[0]),int(variants[1]+4), int(variants[2]+8)] #brute force method of getting reaction index for each variant\n",
    "rxn_plot(myModel, results[run], rxn_idx, figsize=(16,4), titles = v_labels)"
   ]
  },
  {
   "cell_type": "code",
   "execution_count": 20,
   "metadata": {},
   "outputs": [
    {
     "data": {
      "text/plain": [
       "20.0"
      ]
     },
     "execution_count": 20,
     "metadata": {},
     "output_type": "execute_result"
    }
   ],
   "source": [
    "(results[0]['time']/60)[-1]"
   ]
  },
  {
   "cell_type": "code",
   "execution_count": 36,
   "metadata": {},
   "outputs": [
    {
     "data": {
      "image/png": "[encoded data removed]",
      "text/plain": [
       "<Figure size 432x288 with 1 Axes>"
      ]
     },
     "metadata": {
      "needs_background": "light"
     },
     "output_type": "display_data"
    }
   ],
   "source": [
    "plt.hist([((r['[MALICACID]'][-1]*malate_mw)/(r['[SERINE]'][0]*serine_mw)*1000) for r in results]);\n",
    "plt.xlabel('yield (malate mg / serene g)');\n",
    "plt.ylabel('Number of Pathway Variants');"
   ]
  },
  {
   "cell_type": "code",
   "execution_count": 37,
   "metadata": {},
   "outputs": [],
   "source": [
    "#dummy test of different enzyme ratios \n",
    "#testing just one combination of enzyme variants\n",
    "\n",
    "ratios = [1,5,10]\n",
    "results_id = np.empty((len(ratios), len(ratios), len(ratios)), dtype=int)\n",
    "results = []\n",
    "count = 0\n",
    "\n",
    "for i in ratios:\n",
    "    for j in ratios:\n",
    "        for k in ratios:\n",
    "            r['['+sdaV[0]+']'] = enzymeInit*(i/sum(ratios))\n",
    "            r['['+pcxV[0]+']'] = enzymeInit*(j/sum(ratios))\n",
    "            r['['+mdhV[0]+']'] = enzymeInit*(k/sum(ratios))\n",
    "\n",
    "            #results_id[i-1,j-1,k-1] = count\n",
    "            results.append(r.simulate(0,1200,1000))\n",
    "            r.reset()\n",
    "            count += 1"
   ]
  },
  {
   "cell_type": "code",
   "execution_count": null,
   "metadata": {},
   "outputs": [],
   "source": [
    "'''\n",
    "species = ['[SERINE]','[PYRUVICACID]','[OXALOACETICACID]', '[MALICACID]']\n",
    "sample = [0, 5, 10, 15, 20, 25]\n",
    "for s in sample:\n",
    "    sim = results[s]\n",
    "    plt.figure()\n",
    "    for sp in species:\n",
    "        plt.plot(sim['time'],sim[sp])\n",
    "        plt.legend(labels = ['Serine','Pyruvate','Oxaloacetate', 'Malate'])\n",
    "'''\n",
    "\n",
    "sample = [0, 5, 10, 15, 20, 25]\n",
    "for s in sample:\n",
    "    sim = results[s]\n",
    "    plt.figure()\n",
    "    plt.plot(sim['time'],sim['[MALICACID]'])\n",
    "\n",
    "\n"
   ]
  },
  {
   "cell_type": "code",
   "execution_count": 23,
   "metadata": {},
   "outputs": [
    {
     "data": {
      "text/plain": [
       "20.0"
      ]
     },
     "execution_count": 23,
     "metadata": {},
     "output_type": "execute_result"
    }
   ],
   "source": [
    "results[0]['time'][-1]/60"
   ]
  },
  {
   "cell_type": "code",
   "execution_count": 39,
   "metadata": {},
   "outputs": [
    {
     "data": {
      "image/png": "[encoded data removed]",
      "text/plain": [
       "<Figure size 432x288 with 1 Axes>"
      ]
     },
     "metadata": {
      "needs_background": "light"
     },
     "output_type": "display_data"
    }
   ],
   "source": [
    "plt.hist([((r['[MALICACID]'][-1]*malate_mw)/(r['[SERINE]'][0]*serine_mw)*1000) for r in results]);\n",
    "plt.xlabel('yield (malate mg / serene g)');\n",
    "plt.ylabel('Number of Pathway Variants');"
   ]
  },
  {
   "cell_type": "code",
   "execution_count": 33,
   "metadata": {},
   "outputs": [
    {
     "data": {
      "text/html": [
       "<div>\n",
       "<style scoped>\n",
       "    .dataframe tbody tr th:only-of-type {\n",
       "        vertical-align: middle;\n",
       "    }\n",
       "\n",
       "    .dataframe tbody tr th {\n",
       "        vertical-align: top;\n",
       "    }\n",
       "\n",
       "    .dataframe thead th {\n",
       "        text-align: right;\n",
       "    }\n",
       "</style>\n",
       "<table border=\"1\" class=\"dataframe\">\n",
       "  <thead>\n",
       "    <tr style=\"text-align: right;\">\n",
       "      <th></th>\n",
       "      <th>Label</th>\n",
       "      <th>Type</th>\n",
       "      <th>StartingConc</th>\n",
       "      <th>Mechanisms</th>\n",
       "    </tr>\n",
       "  </thead>\n",
       "  <tbody>\n",
       "    <tr>\n",
       "      <th>0</th>\n",
       "      <td>Serine</td>\n",
       "      <td>Metabolite</td>\n",
       "      <td>119.04760</td>\n",
       "      <td>NaN</td>\n",
       "    </tr>\n",
       "    <tr>\n",
       "      <th>1</th>\n",
       "      <td>CO2</td>\n",
       "      <td>Metabolite</td>\n",
       "      <td>50.00000</td>\n",
       "      <td>NaN</td>\n",
       "    </tr>\n",
       "    <tr>\n",
       "      <th>2</th>\n",
       "      <td>Pyruvic acid</td>\n",
       "      <td>Metabolite</td>\n",
       "      <td>33.00000</td>\n",
       "      <td>NaN</td>\n",
       "    </tr>\n",
       "    <tr>\n",
       "      <th>3</th>\n",
       "      <td>Oxaloacetic acid</td>\n",
       "      <td>Metabolite</td>\n",
       "      <td>4.00000</td>\n",
       "      <td>NaN</td>\n",
       "    </tr>\n",
       "    <tr>\n",
       "      <th>4</th>\n",
       "      <td>$ATP</td>\n",
       "      <td>Cofactor</td>\n",
       "      <td>4.93095</td>\n",
       "      <td>NaN</td>\n",
       "    </tr>\n",
       "    <tr>\n",
       "      <th>5</th>\n",
       "      <td>AMP</td>\n",
       "      <td>Cofactor</td>\n",
       "      <td>0.00000</td>\n",
       "      <td>NaN</td>\n",
       "    </tr>\n",
       "    <tr>\n",
       "      <th>6</th>\n",
       "      <td>ADP</td>\n",
       "      <td>Cofactor</td>\n",
       "      <td>0.00000</td>\n",
       "      <td>NaN</td>\n",
       "    </tr>\n",
       "    <tr>\n",
       "      <th>7</th>\n",
       "      <td>NADPH</td>\n",
       "      <td>Cofactor</td>\n",
       "      <td>10.00000</td>\n",
       "      <td>NaN</td>\n",
       "    </tr>\n",
       "    <tr>\n",
       "      <th>8</th>\n",
       "      <td>NADP+</td>\n",
       "      <td>Cofactor</td>\n",
       "      <td>0.00000</td>\n",
       "      <td>NaN</td>\n",
       "    </tr>\n",
       "    <tr>\n",
       "      <th>9</th>\n",
       "      <td>NADH</td>\n",
       "      <td>Cofactor</td>\n",
       "      <td>7.53695</td>\n",
       "      <td>NaN</td>\n",
       "    </tr>\n",
       "    <tr>\n",
       "      <th>10</th>\n",
       "      <td>NAD+</td>\n",
       "      <td>Cofactor</td>\n",
       "      <td>0.00000</td>\n",
       "      <td>NaN</td>\n",
       "    </tr>\n",
       "    <tr>\n",
       "      <th>11</th>\n",
       "      <td>Sda_Msmeg</td>\n",
       "      <td>Enzyme</td>\n",
       "      <td>0.00000</td>\n",
       "      <td>NaN</td>\n",
       "    </tr>\n",
       "    <tr>\n",
       "      <th>12</th>\n",
       "      <td>Sda_Bsub</td>\n",
       "      <td>Enzyme</td>\n",
       "      <td>0.00000</td>\n",
       "      <td>NaN</td>\n",
       "    </tr>\n",
       "    <tr>\n",
       "      <th>13</th>\n",
       "      <td>Sda_Ecoli</td>\n",
       "      <td>Enzyme</td>\n",
       "      <td>0.00000</td>\n",
       "      <td>NaN</td>\n",
       "    </tr>\n",
       "    <tr>\n",
       "      <th>14</th>\n",
       "      <td>Sda_Lpneu</td>\n",
       "      <td>Enzyme</td>\n",
       "      <td>0.00000</td>\n",
       "      <td>NaN</td>\n",
       "    </tr>\n",
       "    <tr>\n",
       "      <th>15</th>\n",
       "      <td>PCX_Retli</td>\n",
       "      <td>Enzyme</td>\n",
       "      <td>0.00000</td>\n",
       "      <td>NaN</td>\n",
       "    </tr>\n",
       "    <tr>\n",
       "      <th>16</th>\n",
       "      <td>PCX_Scer</td>\n",
       "      <td>Enzyme</td>\n",
       "      <td>0.00000</td>\n",
       "      <td>NaN</td>\n",
       "    </tr>\n",
       "    <tr>\n",
       "      <th>17</th>\n",
       "      <td>PCX_Msmeg</td>\n",
       "      <td>Enzyme</td>\n",
       "      <td>0.00000</td>\n",
       "      <td>NaN</td>\n",
       "    </tr>\n",
       "    <tr>\n",
       "      <th>18</th>\n",
       "      <td>PCX_Gtherm</td>\n",
       "      <td>Enzyme</td>\n",
       "      <td>0.00000</td>\n",
       "      <td>NaN</td>\n",
       "    </tr>\n",
       "    <tr>\n",
       "      <th>19</th>\n",
       "      <td>Mdh_Ecoli</td>\n",
       "      <td>Enzyme</td>\n",
       "      <td>0.00000</td>\n",
       "      <td>NaN</td>\n",
       "    </tr>\n",
       "    <tr>\n",
       "      <th>20</th>\n",
       "      <td>Mdh_Mdom</td>\n",
       "      <td>Enzyme</td>\n",
       "      <td>0.00000</td>\n",
       "      <td>NaN</td>\n",
       "    </tr>\n",
       "    <tr>\n",
       "      <th>21</th>\n",
       "      <td>Mdh_Remer</td>\n",
       "      <td>Enzyme</td>\n",
       "      <td>0.00000</td>\n",
       "      <td>NaN</td>\n",
       "    </tr>\n",
       "    <tr>\n",
       "      <th>22</th>\n",
       "      <td>Mdh_Taes</td>\n",
       "      <td>Enzyme</td>\n",
       "      <td>0.00000</td>\n",
       "      <td>NaN</td>\n",
       "    </tr>\n",
       "  </tbody>\n",
       "</table>\n",
       "</div>"
      ],
      "text/plain": [
       "               Label        Type  StartingConc  Mechanisms\n",
       "0             Serine  Metabolite     119.04760         NaN\n",
       "1                CO2  Metabolite      50.00000         NaN\n",
       "2       Pyruvic acid  Metabolite      33.00000         NaN\n",
       "3   Oxaloacetic acid  Metabolite       4.00000         NaN\n",
       "4               $ATP    Cofactor       4.93095         NaN\n",
       "5                AMP    Cofactor       0.00000         NaN\n",
       "6                ADP    Cofactor       0.00000         NaN\n",
       "7              NADPH    Cofactor      10.00000         NaN\n",
       "8              NADP+    Cofactor       0.00000         NaN\n",
       "9               NADH    Cofactor       7.53695         NaN\n",
       "10              NAD+    Cofactor       0.00000         NaN\n",
       "11         Sda_Msmeg      Enzyme       0.00000         NaN\n",
       "12          Sda_Bsub      Enzyme       0.00000         NaN\n",
       "13         Sda_Ecoli      Enzyme       0.00000         NaN\n",
       "14         Sda_Lpneu      Enzyme       0.00000         NaN\n",
       "15         PCX_Retli      Enzyme       0.00000         NaN\n",
       "16          PCX_Scer      Enzyme       0.00000         NaN\n",
       "17         PCX_Msmeg      Enzyme       0.00000         NaN\n",
       "18        PCX_Gtherm      Enzyme       0.00000         NaN\n",
       "19         Mdh_Ecoli      Enzyme       0.00000         NaN\n",
       "20          Mdh_Mdom      Enzyme       0.00000         NaN\n",
       "21         Mdh_Remer      Enzyme       0.00000         NaN\n",
       "22          Mdh_Taes      Enzyme       0.00000         NaN"
      ]
     },
     "execution_count": 33,
     "metadata": {},
     "output_type": "execute_result"
    }
   ],
   "source": [
    "myModel.species\n"
   ]
  },
  {
   "cell_type": "code",
   "execution_count": null,
   "metadata": {},
   "outputs": [],
   "source": []
  }
 ],
 "metadata": {
  "interpreter": {
   "hash": "755dde02eea23f4a8c162cda7a56ff393ac89ba42167493bc1bda740cb5369e9"
  },
  "kernelspec": {
   "display_name": "Python 3.6.13 64-bit ('ODBM': conda)",
   "name": "python3"
  },
  "language_info": {
   "codemirror_mode": {
    "name": "ipython",
    "version": 3
   },
   "file_extension": ".py",
   "mimetype": "text/x-python",
   "name": "python",
   "nbconvert_exporter": "python",
   "pygments_lexer": "ipython3",
   "version": "3.7.6"
  }
 },
 "nbformat": 4,
 "nbformat_minor": 4
}
