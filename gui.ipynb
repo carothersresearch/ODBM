{
 "cells": [
  {
   "cell_type": "code",
   "execution_count": 2,
   "metadata": {},
   "outputs": [],
   "source": [
    "from tkinter import *\n",
    "from os.path import exists\n",
    "import pandas as pd\n",
    "from odbm.odbm_main import ModelBuilder, ModelHandler\n",
    "from odbm.utils import extractParams, fmt\n"
   ]
  },
  {
   "cell_type": "markdown",
   "metadata": {},
   "source": [
    "To add:\n",
    "- Events\n",
    "    - Similar to constant species, have user type in event @ trigger: (A = 3 @ time > 10)\n",
    "- Sensitivity Analysis\n",
    "    - user types in species and range of concentrations: A = 1:100, B = .1:1000\n",
    "- Visualization\n",
    "    - input species and time (two separate entries)\n"
   ]
  },
  {
   "cell_type": "code",
   "execution_count": 3,
   "metadata": {},
   "outputs": [],
   "source": [
    "# Checks if model path given by user exists and builds model.\n",
    "def loadModel(model_path,root):\n",
    "    global myModel #create global variable so it is accessible in main\n",
    "    if exists(model_path) and model_path.endswith(('.xls','.xlsx')):\n",
    "        model_species = pd.read_excel(model_path, sheet_name = 'Species & Base Mechanisms', engine = 'openpyxl').dropna('index','all')\n",
    "        model_rxns = pd.read_excel(model_path, sheet_name = 'Reaction', engine = 'openpyxl').dropna('index','all')\n",
    "        myModel = ModelBuilder(model_species, model_rxns)\n",
    "        print('Model successfully built')\n",
    "        modelWindow(myModel, model_path, root)\n",
    "\n",
    "    else:\n",
    "        if exists(model_path):\n",
    "            raise TypeError('Please pass in an excel compatible workbook with sheets named \"Species & Base Mechanisms\" and \"Reaction\"')\n",
    "        else:\n",
    "            raise FileExistsError('Error: No file exists with given name.')"
   ]
  },
  {
   "cell_type": "code",
   "execution_count": 4,
   "metadata": {},
   "outputs": [],
   "source": [
    "# 2nd Window\n",
    "def modelWindow(myModel, model_path, root):\n",
    "\n",
    "    frame, root = newWindow(root)\n",
    "\n",
    "    welcome = Label(frame, text = \"Model successfully loaded! \")\n",
    "    welcome.config(font = ('Arial', 12))\n",
    "    welcome.pack()\n",
    "    \n",
    "    cancel_button = Button(frame, text=\"Cancel\", fg=\"blue\",command = lambda: cancelButton(root)) \n",
    "    save_button = Button(frame, text = 'Save Model', fg = 'blue', command = lambda: saveModelTxt(myModel,model_path,frame))\n",
    "    simulate_button = Button(frame, text = 'Simulate Model', fg = 'blue', command = lambda: runSimulation(myModel, model_path, root)) \n",
    "    edit_button = Button(frame, text = 'Edit Model', fg = 'blue', command = lambda: EditWindow(model_path, root)) \n",
    "\n",
    "    cancel_button.pack(side = LEFT)\n",
    "    save_button.pack(side = LEFT)\n",
    "    simulate_button.pack(side = LEFT)\n",
    "    edit_button.pack(side = LEFT)\n"
   ]
  },
  {
   "cell_type": "code",
   "execution_count": 5,
   "metadata": {},
   "outputs": [],
   "source": [
    "def cancelButton(root):\n",
    "    root.destroy()\n",
    "    __init__()\n",
    "\n",
    "def newWindow(root):\n",
    "    root.destroy()\n",
    "    root = Tk()\n",
    "    frame = Frame(root)\n",
    "    frame.pack()\n",
    "    return frame, root\n",
    "\n",
    "def saveModelTxt(myModel,model_path,frame):\n",
    "    modelfile = model_path[:-4] + 'txt'\n",
    "    myModel.saveModel(modelfile)\n",
    "    save_msg = Label(frame, text = 'Model successfully saved.')\n",
    "    save_msg.pack(side = BOTTOM)\n",
    "    return modelfile\n",
    "\n",
    "\n",
    "def runSimulation(myModel, model_path, root):\n",
    "\n",
    "    # Close previous window and open new\n",
    "    frame, root = newWindow(root)\n",
    "\n",
    "    # Set up ModelHandler instance and selections for simulation\n",
    "    modelfile = saveModelTxt(myModel,model_path, frame)\n",
    "    with open(modelfile,'r') as m:\n",
    "        MH = ModelHandler(m.read())\n",
    "    selections = list(map(fmt, myModel.species['Label'])) + list(myModel.rxns['Label']) + ['time']\n",
    "\n",
    "\n",
    "    #Add entries, buttons, labels\n",
    "    start = Entry(frame, width = 10)\n",
    "    end = Entry(frame, width = 10)\n",
    "    points = Entry(frame, width = 10)\n",
    "    titles = Label(frame, text = \"Start: \\t End: \\t Points: \\n\")\n",
    "    run_button = Button(frame, text = 'Run Simulation',  fg = 'blue', \n",
    "    command = lambda : [MH.setSimParams(int(start.get()),int(end.get()),int(points.get()), selections=selections), \n",
    "                        simHelper(MH, model_path, root)])\n",
    "    back = Button(frame, text = 'Back', fg = 'Blue', command = lambda: modelWindow(myModel, model_path, root ))\n",
    "    \n",
    "    titles.pack(side = LEFT)\n",
    "    start.pack(side = LEFT)\n",
    "    end.pack(side = LEFT)\n",
    "    points.pack(side = LEFT)\n",
    "    run_button.pack(side = RIGHT)\n",
    "    back.pack(side = RIGHT)\n",
    "\n",
    "def simHelper(MH, model_path, root):\n",
    "    # Close previous window and open new\n",
    "    frame, root = newWindow(root)\n",
    "\n",
    "\n",
    "    results = MH.rr.simulate(MH.SimParams['start'],MH.SimParams['end'],MH.SimParams['points'],MH.SimParams['selections'])\n",
    "    feedback = Label(frame, text = \"Simulation successfully run\")\n",
    "    feedback.config(font = ('Arial', 10))\n",
    "    feedback.pack()\n",
    "\n",
    "    #Add entries, buttons, labels\n",
    "    back = Button(frame, text = 'Back',  fg = 'blue', command = lambda: runSimulation(myModel,model_path,root))\n",
    "    save = Button(frame,text = \"Save Simulation Results\", fg = 'blue', command = lambda: saveSim(results, model_path,frame)) \n",
    "    visualize = Button(frame, text = 'Visualize Simulation Results', fg = 'blue') #use vis.py, let user input reactions and/or species\n",
    "\n",
    "    back.pack()\n",
    "    save.pack()\n",
    "    visualize.pack()\n",
    "\n",
    "def saveSim(results, model_path,frame):\n",
    "    sim_df = pd.DataFrame(results, columns = results.colnames).round(2)\n",
    "    results_path = model_path[:-4] + '_RESULTS.xlsx'\n",
    "    sim_df.to_excel(results_path, sheet_name = 'Results')\n",
    "    # bug here right now but can't figure it out yet\n",
    "\n",
    "    feedback = Label(frame, text = \"Results successfully saved to excel file\")\n",
    "    feedback.config(font = ('Arial', 10))\n",
    "    feedback.pack()\n",
    "    \n",
    "    \n",
    "\n",
    "\n",
    "    \n"
   ]
  },
  {
   "cell_type": "code",
   "execution_count": 6,
   "metadata": {},
   "outputs": [],
   "source": [
    "def EditWindow(model_path,root):\n",
    "    \n",
    "    frame, root = newWindow(root)\n",
    "\n",
    "    constant = Button(frame, text = 'Add Constant Species', fg = 'blue', command = lambda: setConstantHelper(model_path, root))\n",
    "    event = Button(frame,text = 'Add Event', fg = 'blue')\n",
    "    sensitivity = Button(frame, text = 'Sensitivity Analysis', fg = 'blue')\n",
    "    back = Button(frame, text = 'Back',  fg = 'blue', command = lambda: modelWindow(myModel,model_path,root))\n",
    "\n",
    "\n",
    "    constant.pack()\n",
    "    event.pack()\n",
    "    sensitivity.pack()\n",
    "    back.pack()\n",
    "\n",
    "\n",
    "def setConstant(model_path,frame,entry):\n",
    "    param_dict = {}\n",
    "    params = entry.split(',')\n",
    "    for p in params:\n",
    "        sp,val = p.split(':')\n",
    "        param_dict[sp] = val\n",
    "\n",
    "    modelfile = model_path[:-4] + 'txt'\n",
    "    with open(modelfile,'r') as m:\n",
    "        MH = ModelHandler(m.read())\n",
    "    MH.setConstantParams(param_dict)\n",
    "    \n",
    "    feedback = Label(frame, text = \"Values successfully set\")\n",
    "    feedback.config(font = ('Arial', 10))\n",
    "    feedback.pack()\n",
    "    \n",
    "\n",
    "\n",
    "def setConstantHelper(model_path,root):\n",
    "\n",
    "    frame, root = newWindow(root)\n",
    "\n",
    "    prompt = Label(frame, text = \"Insert list of species and concentrations in format species:concentration separated by commas\")\n",
    "    prompt.config(font = ('Arial', 12))\n",
    "    entry = Entry(frame, width = 40)\n",
    "    set = Button(frame, text = 'Set', fg = 'blue', command = lambda : setConstant(model_path,frame,entry.get()))\n",
    "    back = Button(frame, text = 'Back',  fg = 'blue', command = lambda: EditWindow(model_path,root))\n",
    "\n",
    "    prompt.pack()\n",
    "    entry.pack()\n",
    "    set.pack()\n",
    "    back.pack()\n",
    "    \n",
    "    "
   ]
  },
  {
   "cell_type": "code",
   "execution_count": 7,
   "metadata": {},
   "outputs": [
    {
     "name": "stdout",
     "output_type": "stream",
     "text": [
      "Model successfully built\n"
     ]
    }
   ],
   "source": [
    "# Main Window\n",
    "def __init__():\n",
    "    root = Tk()\n",
    "    frame = Frame(root)\n",
    "    frame.pack()\n",
    "\n",
    "    welcome = Label(frame, text = \"Welcome to ODBM \\n Please insert file path for model to load:\")\n",
    "    welcome.config(font = ('Arial', 12))\n",
    "    entry = Entry(frame, width = 40)\n",
    "    loadbutton = Button(frame, text=\"Load Model\", fg=\"blue\", command = lambda:loadModel(entry.get(),root))\n",
    "\n",
    "    welcome.pack()\n",
    "    loadbutton.pack(side = BOTTOM)\n",
    "    entry.pack()\n",
    "    root.mainloop()\n",
    "\n",
    "__init__()"
   ]
  },
  {
   "cell_type": "code",
   "execution_count": 8,
   "metadata": {},
   "outputs": [
    {
     "ename": "SyntaxError",
     "evalue": "unexpected character after line continuation character (<ipython-input-8-cf614fb1cf2e>, line 1)",
     "output_type": "error",
     "traceback": [
      "\u001b[1;36m  File \u001b[1;32m\"<ipython-input-8-cf614fb1cf2e>\"\u001b[1;36m, line \u001b[1;32m1\u001b[0m\n\u001b[1;33m    C:\\Users\\rycar\\Documents\\GitHub\\ODBM\\Examples\\model_definition.xlsx\u001b[0m\n\u001b[1;37m                                                                       ^\u001b[0m\n\u001b[1;31mSyntaxError\u001b[0m\u001b[1;31m:\u001b[0m unexpected character after line continuation character\n"
     ]
    }
   ],
   "source": [
    "C:\\Users\\rycar\\Documents\\GitHub\\ODBM\\Examples\\model_definition.xlsx"
   ]
  },
  {
   "cell_type": "code",
   "execution_count": null,
   "metadata": {},
   "outputs": [],
   "source": []
  },
  {
   "cell_type": "code",
   "execution_count": null,
   "metadata": {},
   "outputs": [],
   "source": []
  }
 ],
 "metadata": {
  "interpreter": {
   "hash": "3e94562846622edf0cdf01e5da890585ede3da54b1c07682c7a3403648bea302"
  },
  "kernelspec": {
   "display_name": "Python 3.7.6 64-bit ('base': conda)",
   "language": "python",
   "name": "python3"
  },
  "language_info": {
   "codemirror_mode": {
    "name": "ipython",
    "version": 3
   },
   "file_extension": ".py",
   "mimetype": "text/x-python",
   "name": "python",
   "nbconvert_exporter": "python",
   "pygments_lexer": "ipython3",
   "version": "3.7.6"
  },
  "orig_nbformat": 4
 },
 "nbformat": 4,
 "nbformat_minor": 2
}
