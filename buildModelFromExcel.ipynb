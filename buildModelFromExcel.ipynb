{
 "cells": [
  {
   "cell_type": "code",
   "execution_count": 1,
   "metadata": {},
<<<<<<< Updated upstream
   "outputs": [],
=======
   "outputs": [
    {
     "ename": "ModuleNotFoundError",
     "evalue": "No module named 'overrides'",
     "output_type": "error",
     "traceback": [
      "\u001b[1;31m---------------------------------------------------------------------------\u001b[0m",
      "\u001b[1;31mModuleNotFoundError\u001b[0m                       Traceback (most recent call last)",
      "\u001b[1;32m~\\AppData\\Local\\Temp\\ipykernel_6804\\3363392384.py\u001b[0m in \u001b[0;36m<module>\u001b[1;34m\u001b[0m\n\u001b[0;32m      4\u001b[0m \u001b[1;32mimport\u001b[0m \u001b[0mnumpy\u001b[0m \u001b[1;32mas\u001b[0m \u001b[0mnp\u001b[0m\u001b[1;33m\u001b[0m\u001b[1;33m\u001b[0m\u001b[0m\n\u001b[0;32m      5\u001b[0m \u001b[1;32mimport\u001b[0m \u001b[0mtellurium\u001b[0m \u001b[1;32mas\u001b[0m \u001b[0mte\u001b[0m\u001b[1;33m\u001b[0m\u001b[1;33m\u001b[0m\u001b[0m\n\u001b[1;32m----> 6\u001b[1;33m \u001b[1;32mfrom\u001b[0m \u001b[0modbm\u001b[0m\u001b[1;33m.\u001b[0m\u001b[0modbm\u001b[0m \u001b[1;32mimport\u001b[0m \u001b[0mModelBuilder\u001b[0m\u001b[1;33m,\u001b[0m \u001b[0mModelHandler\u001b[0m\u001b[1;33m\u001b[0m\u001b[1;33m\u001b[0m\u001b[0m\n\u001b[0m\u001b[0;32m      7\u001b[0m \u001b[1;32mimport\u001b[0m \u001b[0mmatplotlib\u001b[0m\u001b[1;33m.\u001b[0m\u001b[0mpyplot\u001b[0m \u001b[1;32mas\u001b[0m \u001b[0mplt\u001b[0m\u001b[1;33m\u001b[0m\u001b[1;33m\u001b[0m\u001b[0m\n\u001b[0;32m      8\u001b[0m \u001b[1;32mfrom\u001b[0m \u001b[0modbm\u001b[0m\u001b[1;33m.\u001b[0m\u001b[0mvis\u001b[0m \u001b[1;32mimport\u001b[0m \u001b[1;33m*\u001b[0m\u001b[1;33m\u001b[0m\u001b[1;33m\u001b[0m\u001b[0m\n",
      "\u001b[1;32mc:\\Users\\Diego Alba\\Documents\\GitHub\\ODBM\\odbm\\odbm.py\u001b[0m in \u001b[0;36m<module>\u001b[1;34m\u001b[0m\n\u001b[0;32m      5\u001b[0m \u001b[1;32mfrom\u001b[0m \u001b[0modbm\u001b[0m\u001b[1;33m.\u001b[0m\u001b[0mutils\u001b[0m \u001b[1;32mimport\u001b[0m \u001b[0mextractParams\u001b[0m\u001b[1;33m,\u001b[0m \u001b[0mfmt\u001b[0m\u001b[1;33m\u001b[0m\u001b[1;33m\u001b[0m\u001b[0m\n\u001b[0;32m      6\u001b[0m \u001b[1;33m\u001b[0m\u001b[0m\n\u001b[1;32m----> 7\u001b[1;33m \u001b[1;32mfrom\u001b[0m \u001b[0modbm\u001b[0m\u001b[1;33m.\u001b[0m\u001b[0mmechanisms\u001b[0m \u001b[1;32mimport\u001b[0m \u001b[1;33m*\u001b[0m\u001b[1;33m\u001b[0m\u001b[1;33m\u001b[0m\u001b[0m\n\u001b[0m\u001b[0;32m      8\u001b[0m \u001b[1;32mfrom\u001b[0m \u001b[0modbm\u001b[0m\u001b[1;33m.\u001b[0m\u001b[0mmodifiers\u001b[0m \u001b[1;32mimport\u001b[0m \u001b[1;33m*\u001b[0m\u001b[1;33m\u001b[0m\u001b[1;33m\u001b[0m\u001b[0m\n\u001b[0;32m      9\u001b[0m DEFAULT_MECHANISMS = [  MichaelisMenten, OrderedBisubstrateBiproduct, MassAction, simplifiedOBB, ConstantRate, Exponential,\n",
      "\u001b[1;32mc:\\Users\\Diego Alba\\Documents\\GitHub\\ODBM\\odbm\\mechanisms.py\u001b[0m in \u001b[0;36m<module>\u001b[1;34m\u001b[0m\n\u001b[1;32m----> 1\u001b[1;33m \u001b[1;32mfrom\u001b[0m \u001b[0moverrides\u001b[0m \u001b[1;32mimport\u001b[0m \u001b[0mEnforceOverrides\u001b[0m\u001b[1;33m,\u001b[0m \u001b[0moverrides\u001b[0m\u001b[1;33m,\u001b[0m \u001b[0mfinal\u001b[0m\u001b[1;33m\u001b[0m\u001b[1;33m\u001b[0m\u001b[0m\n\u001b[0m\u001b[0;32m      2\u001b[0m \u001b[1;32mfrom\u001b[0m \u001b[0modbm\u001b[0m\u001b[1;33m.\u001b[0m\u001b[0mutils\u001b[0m \u001b[1;32mimport\u001b[0m \u001b[0mextractParams\u001b[0m\u001b[1;33m,\u001b[0m \u001b[0mfmt\u001b[0m\u001b[1;33m,\u001b[0m \u001b[0mgetStoich\u001b[0m\u001b[1;33m\u001b[0m\u001b[1;33m\u001b[0m\u001b[0m\n\u001b[0;32m      3\u001b[0m \u001b[1;32mimport\u001b[0m \u001b[0mpandas\u001b[0m \u001b[1;32mas\u001b[0m \u001b[0mpd\u001b[0m\u001b[1;33m\u001b[0m\u001b[1;33m\u001b[0m\u001b[0m\n\u001b[0;32m      4\u001b[0m \u001b[1;32mimport\u001b[0m \u001b[0mnumpy\u001b[0m \u001b[1;32mas\u001b[0m \u001b[0mnp\u001b[0m\u001b[1;33m\u001b[0m\u001b[1;33m\u001b[0m\u001b[0m\n\u001b[0;32m      5\u001b[0m \u001b[1;32mimport\u001b[0m \u001b[0mre\u001b[0m\u001b[1;33m\u001b[0m\u001b[1;33m\u001b[0m\u001b[0m\n",
      "\u001b[1;31mModuleNotFoundError\u001b[0m: No module named 'overrides'"
     ]
    }
   ],
>>>>>>> Stashed changes
   "source": [
    "%reload_ext autoreload\n",
    "%autoreload 2\n",
    "import pandas as pd\n",
    "import numpy as np\n",
    "import tellurium as te\n",
    "from odbm.odbm_main import ModelBuilder, ModelHandler\n",
    "import matplotlib.pyplot as plt\n",
    "from odbm.vis import *\n",
    "from odbm.utils import extractParams, fmt, getStoich\n",
    "import itertools\n"
   ]
  },
  {
   "cell_type": "code",
   "execution_count": 2,
   "metadata": {},
   "outputs": [],
   "source": [
    "excel_model = 'multi_enzyme_model_regeneration.xlsx'\n",
    "model_species = pd.read_excel('Examples/'+excel_model, sheet_name = 'Species & Base Mechanisms', engine = 'openpyxl').dropna('index','all')\n",
    "model_rxns = pd.read_excel('Examples/'+excel_model, sheet_name = 'Reaction', engine = 'openpyxl').dropna('index','all')"
   ]
  },
  {
   "cell_type": "code",
   "execution_count": 3,
   "metadata": {},
   "outputs": [],
   "source": [
    "expression_limit = 0.05\n",
    "\n",
    "DNA = 1e-6 # mM\n",
    "init_serine_txtl = 5 #mM\n",
    "lifetime = 8 * 3600 # s\n",
    "integral_serine = init_serine_txtl * lifetime /2 #mM*s\n",
    "\n",
    "k_TXTL = expression_limit/(DNA*integral_serine) # 1/nM*s\n",
    "\n",
    "k_TXTL_2 =  expression_limit/(DNA * lifetime * 0.025) # from Pi inhibition\n",
    "# https://www.wolframalpha.com/input/?i=integral+of+1-e%5E%28-x%2F0.1%29+from+0+to+1\n",
    "\n",
    "avg_res = 300 # average number of residues\n",
    "pi_prod = 5 # Pi produced per residue\n",
    "pi_fudge = 1\n",
    "\n",
    "max_Pi = expression_limit*avg_res*pi_prod*pi_fudge # max mM of Pi\n",
    "\n",
    "constant_params = {'k_TXTL': k_TXTL_2, 'maxC_Pi_P2': max_Pi}"
   ]
  },
  {
   "cell_type": "code",
   "execution_count": 3,
   "metadata": {},
   "outputs": [],
   "source": [
    "solubilities = {    'ATP' : 98.619,\n",
    "                    'Serine': 2380.952,\n",
    "                    'HCO3' : 1470.588,\n",
    "                    'NADH' : 150.739 \n",
    "                }\n",
    "sol_fudge = 1/20\n",
    "solubilities = {k:v*sol_fudge for k,v in solubilities.items()}\n",
    "solubilities['Serine'] = min(solubilities.values())\n",
    "\n",
    "for k,v in solubilities.items():\n",
    "    model_species.loc[model_species['Label'] == k,'StartingConc'] = v\n",
    "\n",
    "constant_params['maxC_ATP_C0'] = solubilities['ATP']\n",
    "constant_params['maxC_NADH_C0'] = solubilities['NADH']\n",
    "# better to just look at OG papers"
   ]
  },
  {
   "cell_type": "code",
   "execution_count": 4,
   "metadata": {},
   "outputs": [],
   "source": [
    "N = 1000*64\n",
    "init_serine = {'SERINE':10**np.random.uniform(np.log10(solubilities['Serine']/5), np.log10(solubilities['Serine']*4), N)}\n",
    "#plt.hist(serine.values())"
   ]
  },
  {
   "cell_type": "code",
   "execution_count": 5,
   "metadata": {},
   "outputs": [],
   "source": [
    "sdaV = list(map(lambda x:x.upper(),model_species[['Sda' in s for s in model_species['Label']]]['Label']))[:4]\n",
    "pcxV = list(map(lambda x:x.upper(),model_species[['PCX' in s for s in model_species['Label']]]['Label']))[:4]\n",
    "mdhV = list(map(lambda x:x.upper(),model_species[['Mdh' in s for s in model_species['Label']]]['Label']))[:4]\n",
    "\n",
    "picks = np.random.randint(4, size = (3,N))\n",
    "filter = np.zeros((4,3,N))\n",
    "\n",
    "for i in range(3):\n",
    "    filter[picks[i,:],i,np.arange(N)] = 1\n",
    "\n",
<<<<<<< Updated upstream
    "init_DNA = dict(zip(['DNA_'+d for d in sdaV+pcxV+mdhV], (10**np.random.uniform(np.log10(1/20000000), np.log10(1/100000),size = filter.shape)*filter).reshape((12,N),order = 'F')))"
=======
    "init_DNA = dict(zip(['DNA_'+d for d in sdaV+pcxV+mdhV], (10**np.random.uniform(np.log10(1/10000), np.log10(1/100),size = filter.shape)*filter).reshape((12,N),order = 'F')))\n",
    "\n"
   ]
  },
  {
   "cell_type": "code",
   "execution_count": 6,
   "metadata": {},
   "outputs": [],
   "source": [
    "tau = 4*60*60\n",
    "taus = {'tau_'+enz:10**np.random.uniform(np.log10(tau/4),np.log10(tau*2.5), N) for enz in [*sdaV,*pcxV,*mdhV]}"
>>>>>>> Stashed changes
   ]
  },
  {
   "cell_type": "code",
   "execution_count": 7,
   "metadata": {},
   "outputs": [],
   "source": [
    "fluxes = {'Pyruvate': 12.478089, 'Serine': 1.678, 'Malate': 6.267} #units of mmol/gDW*hr\n",
    "amounts = {'Pyruvate': 0.39, 'Serine': 0.068, 'Malate': 1.7} #units of mmol/gDW*hr\n",
    "\n",
    "prot_dilution_factor = 25*100\n",
    "\n",
    "def convertFlux(fluxes):\n",
    "    new_fluxes = {}\n",
    "    for f in fluxes:\n",
    "        new_fluxes[f] = (fluxes[f]*(3E-13)/(1E-15))/prot_dilution_factor/3600/amounts[f]\n",
    "    return new_fluxes\n",
    "\n",
    "new_fluxes = convertFlux(fluxes)\n",
    "\n",
    "keys = {'Pyruvate': 'k_R14', 'Serine': 'k_R13', 'Malate': 'k_R15'}\n",
    "siphon = {k:v for k,v in zip([keys[ky] for ky in new_fluxes.keys()], [10**np.random.uniform(np.log10(s/31), np.log10(s*31), N) for s in new_fluxes.values()])}"
   ]
  },
  {
   "cell_type": "code",
   "execution_count": 8,
   "metadata": {},
   "outputs": [],
   "source": [
    "keys = {'ATP': 'k_R28', 'NADH': 'k_R29'}\n",
    "\n",
    "K = min(new_fluxes.values())*25\n",
    "regen = lambda x: {k:v for k,v in zip(keys.values(), [10**np.random.uniform(np.log10(K/31), np.log10(K*31), N)*x for s in keys.values()])}"
   ]
  },
  {
   "cell_type": "code",
   "execution_count": 31,
   "metadata": {},
   "outputs": [],
   "source": [
    "modelfile = 'Examples/'+excel_model[:-4]+'txt'\n",
    "myModel = ModelBuilder(model_species, model_rxns)\n",
    "myModel.saveModel(modelfile)\n",
    "\n",
    "with open(modelfile,'r') as m:\n",
    "    MH = ModelHandler(m.read())\n",
    "\n",
    "selections = list(map(fmt, myModel.species['Label'])) + list(myModel.rxns['Label']) + ['time']\n",
    "MH.setSimParams(0,12*60*60,200, selections=selections)\n",
    "\n",
    "MH.setConstantParams(constant_params)\n",
    "\n",
    "serine_mw = 105.09\n",
    "malate_mw = 134.0874\n",
    "yld = lambda x: ((max(x['MALICACID'])*malate_mw)/(x['SERINE'][0]*serine_mw)*1000)\n",
    "amt = lambda x: (max(x['MALICACID']))*malate_mw/1000 # g/L\n",
    "\n",
    "#MH.setBoundarySpecies({'ATP=4.93095':'ATP:=4.93095*exp(-time/30000)'})\n",
    "\n",
    "etot = []\n",
    "for es in [sdaV,pcxV,mdhV]:\n",
    "    etot.append(lambda x: sum([max(x[e]) for e in es]))\n"
   ]
  },
  {
   "cell_type": "code",
<<<<<<< Updated upstream
   "execution_count": 12,
=======
   "execution_count": 32,
   "metadata": {},
   "outputs": [],
   "source": [
    "results, metrics = MH.sensitivityAnalysis(metrics = [yld,amt,*etot])\n",
    "parray = MH.conditions"
   ]
  },
  {
   "cell_type": "code",
   "execution_count": 48,
   "metadata": {},
   "outputs": [
    {
     "data": {
      "text/plain": [
       "(array([  23.,  148.,  497.,  919., 1167., 1260., 1148.,  810.,  361.,\n",
       "          67.]),\n",
       " array([-3.75558495, -3.37446799, -2.99335104, -2.61223408, -2.23111713,\n",
       "        -1.85000017, -1.46888322, -1.08776626, -0.70664931, -0.32553235,\n",
       "         0.0555846 ]),\n",
       " <BarContainer object of 10 artists>)"
      ]
     },
     "execution_count": 48,
     "metadata": {},
     "output_type": "execute_result"
    },
    {
     "data": {
      "image/png": "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",
      "text/plain": [
       "<Figure size 432x288 with 1 Axes>"
      ]
     },
     "metadata": {
      "needs_background": "light"
     },
     "output_type": "display_data"
    }
   ],
   "source": [
    "plt.hist(np.log10(metrics[:,2:].sum(1)))\n"
   ]
  },
  {
   "cell_type": "code",
   "execution_count": 56,
   "metadata": {},
   "outputs": [
    {
     "data": {
      "text/plain": [
       "Text(0, 0.5, 'Malate Yield (mg malate / g serine)')"
      ]
     },
     "execution_count": 56,
     "metadata": {},
     "output_type": "execute_result"
    },
    {
     "data": {
      "image/png": "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",
      "text/plain": [
       "<Figure size 432x288 with 1 Axes>"
      ]
     },
     "metadata": {
      "needs_background": "light"
     },
     "output_type": "display_data"
    }
   ],
   "source": [
    "df = pd.DataFrame({**params,'yld':metrics[:,0],'Etot':metrics[:,2:].sum(1)})\n",
    "\n",
    "pareto = lambda A,B: [~(np.any((A>a) & (B>b))) for a,b in zip(A,B)]\n",
    "pareto(df['yld'],df['Etot'])\n",
    "df[pareto(df['yld'],df['Etot'])].plot('Etot','yld',kind='scatter',color='k', alpha = 0.7)\n",
    "\n",
    "plt.xscale('log')\n",
    "plt.xlabel('Total Enzyme Expression (mM)')\n",
    "plt.ylabel('Malate Yield (mg malate / g serine)')\n",
    "\n"
   ]
  },
  {
   "cell_type": "code",
   "execution_count": 73,
   "metadata": {},
   "outputs": [
    {
     "data": {
      "text/html": [
       "<div>\n",
       "<style scoped>\n",
       "    .dataframe tbody tr th:only-of-type {\n",
       "        vertical-align: middle;\n",
       "    }\n",
       "\n",
       "    .dataframe tbody tr th {\n",
       "        vertical-align: top;\n",
       "    }\n",
       "\n",
       "    .dataframe thead th {\n",
       "        text-align: right;\n",
       "    }\n",
       "</style>\n",
       "<table border=\"1\" class=\"dataframe\">\n",
       "  <thead>\n",
       "    <tr style=\"text-align: right;\">\n",
       "      <th></th>\n",
       "      <th>yld</th>\n",
       "      <th>Etot</th>\n",
       "    </tr>\n",
       "  </thead>\n",
       "  <tbody>\n",
       "    <tr>\n",
       "      <th>356</th>\n",
       "      <td>NaN</td>\n",
       "      <td>NaN</td>\n",
       "    </tr>\n",
       "    <tr>\n",
       "      <th>1580</th>\n",
       "      <td>NaN</td>\n",
       "      <td>NaN</td>\n",
       "    </tr>\n",
       "    <tr>\n",
       "      <th>2007</th>\n",
       "      <td>NaN</td>\n",
       "      <td>NaN</td>\n",
       "    </tr>\n",
       "    <tr>\n",
       "      <th>6005</th>\n",
       "      <td>NaN</td>\n",
       "      <td>NaN</td>\n",
       "    </tr>\n",
       "    <tr>\n",
       "      <th>6175</th>\n",
       "      <td>347.411154</td>\n",
       "      <td>0.000061</td>\n",
       "    </tr>\n",
       "    <tr>\n",
       "      <th>...</th>\n",
       "      <td>...</td>\n",
       "      <td>...</td>\n",
       "    </tr>\n",
       "    <tr>\n",
       "      <th>5444</th>\n",
       "      <td>139.298347</td>\n",
       "      <td>0.025818</td>\n",
       "    </tr>\n",
       "    <tr>\n",
       "      <th>828</th>\n",
       "      <td>103.464023</td>\n",
       "      <td>0.038819</td>\n",
       "    </tr>\n",
       "    <tr>\n",
       "      <th>6286</th>\n",
       "      <td>124.157240</td>\n",
       "      <td>0.051239</td>\n",
       "    </tr>\n",
       "    <tr>\n",
       "      <th>1177</th>\n",
       "      <td>87.602225</td>\n",
       "      <td>0.048285</td>\n",
       "    </tr>\n",
       "    <tr>\n",
       "      <th>2725</th>\n",
       "      <td>129.721040</td>\n",
       "      <td>0.111869</td>\n",
       "    </tr>\n",
       "  </tbody>\n",
       "</table>\n",
       "<p>6400 rows × 2 columns</p>\n",
       "</div>"
      ],
      "text/plain": [
       "             yld      Etot\n",
       "356          NaN       NaN\n",
       "1580         NaN       NaN\n",
       "2007         NaN       NaN\n",
       "6005         NaN       NaN\n",
       "6175  347.411154  0.000061\n",
       "...          ...       ...\n",
       "5444  139.298347  0.025818\n",
       "828   103.464023  0.038819\n",
       "6286  124.157240  0.051239\n",
       "1177   87.602225  0.048285\n",
       "2725  129.721040  0.111869\n",
       "\n",
       "[6400 rows x 2 columns]"
      ]
     },
     "execution_count": 73,
     "metadata": {},
     "output_type": "execute_result"
    },
    {
     "data": {
      "image/png": "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",
      "text/plain": [
       "<Figure size 432x288 with 1 Axes>"
      ]
     },
     "metadata": {
      "needs_background": "light"
     },
     "output_type": "display_data"
    }
   ],
   "source": [
    "sdf = df[['yld','Etot']].sort_values('Etot')\n",
    "sdf.rolling(100).mean().plot('Etot','yld',kind = 'scatter')\n",
    "plt.xscale('log')\n",
    "sdf.rolling(5).std()"
   ]
  },
  {
   "cell_type": "code",
   "execution_count": 104,
   "metadata": {},
   "outputs": [
    {
     "data": {
      "image/png": "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",
      "text/plain": [
       "<Figure size 432x288 with 1 Axes>"
      ]
     },
     "metadata": {
      "needs_background": "light"
     },
     "output_type": "display_data"
    }
   ],
   "source": [
    "bins = np.linspace(np.log10(sdf.Etot.min()), np.log10(sdf.Etot.max()), 60)\n",
    "groups = sdf.groupby(np.digitize(np.log10(sdf.Etot), bins))\n",
    "m = groups.mean()\n",
    "s = groups.std()\n",
    "\n",
    "plt.plot(m['Etot'], m['yld'], 'o')\n",
    "plt.fill_between(m['Etot'], m['yld']+s['yld'], m['yld']-s['yld'], alpha = 0.25)\n",
    "plt.xscale('log')"
   ]
  },
  {
   "cell_type": "code",
   "execution_count": 13,
>>>>>>> Stashed changes
   "metadata": {},
   "outputs": [
    {
     "data": {
      "text/html": [
       "<div>\n",
       "<style scoped>\n",
       "    .dataframe tbody tr th:only-of-type {\n",
       "        vertical-align: middle;\n",
       "    }\n",
       "\n",
       "    .dataframe tbody tr th {\n",
       "        vertical-align: top;\n",
       "    }\n",
       "\n",
       "    .dataframe thead th {\n",
       "        text-align: right;\n",
       "    }\n",
       "</style>\n",
       "<table border=\"1\" class=\"dataframe\">\n",
       "  <thead>\n",
       "    <tr style=\"text-align: right;\">\n",
       "      <th></th>\n",
       "      <th>Label</th>\n",
       "      <th>Type</th>\n",
       "      <th>StartingConc</th>\n",
       "      <th>Conc</th>\n",
       "      <th>Mechanisms</th>\n",
       "      <th>Parameters</th>\n",
       "    </tr>\n",
       "  </thead>\n",
       "  <tbody>\n",
       "    <tr>\n",
       "      <th>0</th>\n",
       "      <td>Serine</td>\n",
       "      <td>Metabolite</td>\n",
       "      <td>4.93095</td>\n",
       "      <td>NaN</td>\n",
       "      <td>NaN</td>\n",
       "      <td>NaN</td>\n",
       "    </tr>\n",
       "    <tr>\n",
       "      <th>1</th>\n",
       "      <td>HCO3</td>\n",
       "      <td>Metabolite</td>\n",
       "      <td>73.52940</td>\n",
       "      <td>NaN</td>\n",
       "      <td>NaN</td>\n",
       "      <td>NaN</td>\n",
       "    </tr>\n",
       "    <tr>\n",
       "      <th>2</th>\n",
       "      <td>Pyruvic acid</td>\n",
       "      <td>Metabolite</td>\n",
       "      <td>0.00000</td>\n",
       "      <td>NaN</td>\n",
       "      <td>NaN</td>\n",
       "      <td>NaN</td>\n",
       "    </tr>\n",
       "    <tr>\n",
       "      <th>3</th>\n",
       "      <td>Malic acid</td>\n",
       "      <td>Metabolite</td>\n",
       "      <td>0.00000</td>\n",
       "      <td>NaN</td>\n",
       "      <td>NaN</td>\n",
       "      <td>NaN</td>\n",
       "    </tr>\n",
       "    <tr>\n",
       "      <th>4</th>\n",
       "      <td>Oxaloacetic acid</td>\n",
       "      <td>Metabolite</td>\n",
       "      <td>0.00000</td>\n",
       "      <td>NaN</td>\n",
       "      <td>NaN</td>\n",
       "      <td>NaN</td>\n",
       "    </tr>\n",
       "    <tr>\n",
       "      <th>5</th>\n",
       "      <td>NH3</td>\n",
       "      <td>Metabolite</td>\n",
       "      <td>0.00000</td>\n",
       "      <td>NaN</td>\n",
       "      <td>NaN</td>\n",
       "      <td>NaN</td>\n",
       "    </tr>\n",
       "    <tr>\n",
       "      <th>6</th>\n",
       "      <td>ATP</td>\n",
       "      <td>Cofactor</td>\n",
       "      <td>4.93095</td>\n",
       "      <td>NaN</td>\n",
       "      <td>NaN</td>\n",
       "      <td>NaN</td>\n",
       "    </tr>\n",
       "    <tr>\n",
       "      <th>7</th>\n",
       "      <td>AMP</td>\n",
       "      <td>Cofactor</td>\n",
       "      <td>0.00000</td>\n",
       "      <td>NaN</td>\n",
       "      <td>NaN</td>\n",
       "      <td>NaN</td>\n",
       "    </tr>\n",
       "    <tr>\n",
       "      <th>8</th>\n",
       "      <td>ADP</td>\n",
       "      <td>Cofactor</td>\n",
       "      <td>0.00000</td>\n",
       "      <td>NaN</td>\n",
       "      <td>NaN</td>\n",
       "      <td>NaN</td>\n",
       "    </tr>\n",
       "    <tr>\n",
       "      <th>9</th>\n",
       "      <td>NADPH</td>\n",
       "      <td>Cofactor</td>\n",
       "      <td>0.00000</td>\n",
       "      <td>NaN</td>\n",
       "      <td>NaN</td>\n",
       "      <td>NaN</td>\n",
       "    </tr>\n",
       "    <tr>\n",
       "      <th>10</th>\n",
       "      <td>NADP+</td>\n",
       "      <td>Cofactor</td>\n",
       "      <td>0.00000</td>\n",
       "      <td>NaN</td>\n",
       "      <td>NaN</td>\n",
       "      <td>NaN</td>\n",
       "    </tr>\n",
       "    <tr>\n",
       "      <th>11</th>\n",
       "      <td>NADH</td>\n",
       "      <td>Cofactor</td>\n",
       "      <td>7.53695</td>\n",
       "      <td>NaN</td>\n",
       "      <td>NaN</td>\n",
       "      <td>NaN</td>\n",
       "    </tr>\n",
       "    <tr>\n",
       "      <th>12</th>\n",
       "      <td>NAD+</td>\n",
       "      <td>Cofactor</td>\n",
       "      <td>0.00000</td>\n",
       "      <td>NaN</td>\n",
       "      <td>NaN</td>\n",
       "      <td>NaN</td>\n",
       "    </tr>\n",
       "    <tr>\n",
       "      <th>13</th>\n",
       "      <td>Sda_Msmeg</td>\n",
       "      <td>Enzyme</td>\n",
       "      <td>0.00000</td>\n",
       "      <td>NaN</td>\n",
       "      <td>NaN</td>\n",
       "      <td>NaN</td>\n",
       "    </tr>\n",
       "    <tr>\n",
       "      <th>14</th>\n",
       "      <td>Sda_Bsub</td>\n",
       "      <td>Enzyme</td>\n",
       "      <td>0.00000</td>\n",
       "      <td>NaN</td>\n",
       "      <td>NaN</td>\n",
       "      <td>NaN</td>\n",
       "    </tr>\n",
       "    <tr>\n",
       "      <th>15</th>\n",
       "      <td>Sda_Ecoli</td>\n",
       "      <td>Enzyme</td>\n",
       "      <td>0.00000</td>\n",
       "      <td>NaN</td>\n",
       "      <td>NaN</td>\n",
       "      <td>NaN</td>\n",
       "    </tr>\n",
       "    <tr>\n",
       "      <th>16</th>\n",
       "      <td>Sda_Lpneu</td>\n",
       "      <td>Enzyme</td>\n",
       "      <td>0.00000</td>\n",
       "      <td>NaN</td>\n",
       "      <td>NaN</td>\n",
       "      <td>NaN</td>\n",
       "    </tr>\n",
       "    <tr>\n",
       "      <th>17</th>\n",
       "      <td>PCX_Retli</td>\n",
       "      <td>Enzyme</td>\n",
       "      <td>0.00000</td>\n",
       "      <td>NaN</td>\n",
       "      <td>NaN</td>\n",
       "      <td>NaN</td>\n",
       "    </tr>\n",
       "    <tr>\n",
       "      <th>18</th>\n",
       "      <td>PCX_Scer</td>\n",
       "      <td>Enzyme</td>\n",
       "      <td>0.00000</td>\n",
       "      <td>NaN</td>\n",
       "      <td>NaN</td>\n",
       "      <td>NaN</td>\n",
       "    </tr>\n",
       "    <tr>\n",
       "      <th>19</th>\n",
       "      <td>PCX_Msmeg</td>\n",
       "      <td>Enzyme</td>\n",
       "      <td>0.00000</td>\n",
       "      <td>NaN</td>\n",
       "      <td>NaN</td>\n",
       "      <td>NaN</td>\n",
       "    </tr>\n",
       "    <tr>\n",
       "      <th>20</th>\n",
       "      <td>PCX_Gtherm</td>\n",
       "      <td>Enzyme</td>\n",
       "      <td>0.00000</td>\n",
       "      <td>NaN</td>\n",
       "      <td>NaN</td>\n",
       "      <td>NaN</td>\n",
       "    </tr>\n",
       "    <tr>\n",
       "      <th>21</th>\n",
       "      <td>Mdh_Ecoli</td>\n",
       "      <td>Enzyme</td>\n",
       "      <td>0.00000</td>\n",
       "      <td>NaN</td>\n",
       "      <td>NaN</td>\n",
       "      <td>NaN</td>\n",
       "    </tr>\n",
       "    <tr>\n",
       "      <th>22</th>\n",
       "      <td>Mdh_Mdom</td>\n",
       "      <td>Enzyme</td>\n",
       "      <td>0.00000</td>\n",
       "      <td>NaN</td>\n",
       "      <td>NaN</td>\n",
       "      <td>NaN</td>\n",
       "    </tr>\n",
       "    <tr>\n",
       "      <th>23</th>\n",
       "      <td>Mdh_Remer</td>\n",
       "      <td>Enzyme</td>\n",
       "      <td>0.00000</td>\n",
       "      <td>NaN</td>\n",
       "      <td>NaN</td>\n",
       "      <td>NaN</td>\n",
       "    </tr>\n",
       "    <tr>\n",
       "      <th>24</th>\n",
       "      <td>Mdh_Taes</td>\n",
       "      <td>Enzyme</td>\n",
       "      <td>0.00000</td>\n",
       "      <td>NaN</td>\n",
       "      <td>NaN</td>\n",
       "      <td>NaN</td>\n",
       "    </tr>\n",
       "    <tr>\n",
       "      <th>25</th>\n",
       "      <td>DNA_Sda_Msmeg</td>\n",
       "      <td>Metabolite</td>\n",
       "      <td>0.00000</td>\n",
       "      <td>NaN</td>\n",
       "      <td>NaN</td>\n",
       "      <td>NaN</td>\n",
       "    </tr>\n",
       "    <tr>\n",
       "      <th>26</th>\n",
       "      <td>DNA_Sda_Bsub</td>\n",
       "      <td>Metabolite</td>\n",
       "      <td>0.00000</td>\n",
       "      <td>NaN</td>\n",
       "      <td>NaN</td>\n",
       "      <td>NaN</td>\n",
       "    </tr>\n",
       "    <tr>\n",
       "      <th>27</th>\n",
       "      <td>DNA_Sda_Ecoli</td>\n",
       "      <td>Metabolite</td>\n",
       "      <td>0.00000</td>\n",
       "      <td>NaN</td>\n",
       "      <td>NaN</td>\n",
       "      <td>NaN</td>\n",
       "    </tr>\n",
       "    <tr>\n",
       "      <th>28</th>\n",
       "      <td>DNA_Sda_Lpneu</td>\n",
       "      <td>Metabolite</td>\n",
       "      <td>0.00000</td>\n",
       "      <td>NaN</td>\n",
       "      <td>NaN</td>\n",
       "      <td>NaN</td>\n",
       "    </tr>\n",
       "    <tr>\n",
       "      <th>29</th>\n",
       "      <td>DNA_PCX_Retli</td>\n",
       "      <td>Metabolite</td>\n",
       "      <td>0.00000</td>\n",
       "      <td>NaN</td>\n",
       "      <td>NaN</td>\n",
       "      <td>NaN</td>\n",
       "    </tr>\n",
       "    <tr>\n",
       "      <th>30</th>\n",
       "      <td>DNA_PCX_Scer</td>\n",
       "      <td>Metabolite</td>\n",
       "      <td>0.00000</td>\n",
       "      <td>NaN</td>\n",
       "      <td>NaN</td>\n",
       "      <td>NaN</td>\n",
       "    </tr>\n",
       "    <tr>\n",
       "      <th>31</th>\n",
       "      <td>DNA_PCX_Msmeg</td>\n",
       "      <td>Metabolite</td>\n",
       "      <td>0.00000</td>\n",
       "      <td>NaN</td>\n",
       "      <td>NaN</td>\n",
       "      <td>NaN</td>\n",
       "    </tr>\n",
       "    <tr>\n",
       "      <th>32</th>\n",
       "      <td>DNA_PCX_Gtherm</td>\n",
       "      <td>Metabolite</td>\n",
       "      <td>0.00000</td>\n",
       "      <td>NaN</td>\n",
       "      <td>NaN</td>\n",
       "      <td>NaN</td>\n",
       "    </tr>\n",
       "    <tr>\n",
       "      <th>33</th>\n",
       "      <td>DNA_Mdh_Ecoli</td>\n",
       "      <td>Metabolite</td>\n",
       "      <td>0.00000</td>\n",
       "      <td>NaN</td>\n",
       "      <td>NaN</td>\n",
       "      <td>NaN</td>\n",
       "    </tr>\n",
       "    <tr>\n",
       "      <th>34</th>\n",
       "      <td>DNA_Mdh_Mdom</td>\n",
       "      <td>Metabolite</td>\n",
       "      <td>0.00000</td>\n",
       "      <td>NaN</td>\n",
       "      <td>NaN</td>\n",
       "      <td>NaN</td>\n",
       "    </tr>\n",
       "    <tr>\n",
       "      <th>35</th>\n",
       "      <td>DNA_Mdh_Remer</td>\n",
       "      <td>Metabolite</td>\n",
       "      <td>0.00000</td>\n",
       "      <td>NaN</td>\n",
       "      <td>NaN</td>\n",
       "      <td>NaN</td>\n",
       "    </tr>\n",
       "    <tr>\n",
       "      <th>36</th>\n",
       "      <td>DNA_Mdh_Taes</td>\n",
       "      <td>Metabolite</td>\n",
       "      <td>0.00000</td>\n",
       "      <td>NaN</td>\n",
       "      <td>NaN</td>\n",
       "      <td>NaN</td>\n",
       "    </tr>\n",
       "    <tr>\n",
       "      <th>37</th>\n",
       "      <td>Pi+</td>\n",
       "      <td>Metabolite</td>\n",
       "      <td>0.00000</td>\n",
       "      <td>NaN</td>\n",
       "      <td>NaN</td>\n",
       "      <td>NaN</td>\n",
       "    </tr>\n",
       "  </tbody>\n",
       "</table>\n",
       "</div>"
      ],
      "text/plain": [
       "               Label        Type  StartingConc  Conc  Mechanisms  Parameters\n",
       "0             Serine  Metabolite       4.93095   NaN         NaN         NaN\n",
       "1               HCO3  Metabolite      73.52940   NaN         NaN         NaN\n",
       "2       Pyruvic acid  Metabolite       0.00000   NaN         NaN         NaN\n",
       "3         Malic acid  Metabolite       0.00000   NaN         NaN         NaN\n",
       "4   Oxaloacetic acid  Metabolite       0.00000   NaN         NaN         NaN\n",
       "5                NH3  Metabolite       0.00000   NaN         NaN         NaN\n",
       "6                ATP    Cofactor       4.93095   NaN         NaN         NaN\n",
       "7                AMP    Cofactor       0.00000   NaN         NaN         NaN\n",
       "8                ADP    Cofactor       0.00000   NaN         NaN         NaN\n",
       "9              NADPH    Cofactor       0.00000   NaN         NaN         NaN\n",
       "10             NADP+    Cofactor       0.00000   NaN         NaN         NaN\n",
       "11              NADH    Cofactor       7.53695   NaN         NaN         NaN\n",
       "12              NAD+    Cofactor       0.00000   NaN         NaN         NaN\n",
       "13         Sda_Msmeg      Enzyme       0.00000   NaN         NaN         NaN\n",
       "14          Sda_Bsub      Enzyme       0.00000   NaN         NaN         NaN\n",
       "15         Sda_Ecoli      Enzyme       0.00000   NaN         NaN         NaN\n",
       "16         Sda_Lpneu      Enzyme       0.00000   NaN         NaN         NaN\n",
       "17         PCX_Retli      Enzyme       0.00000   NaN         NaN         NaN\n",
       "18          PCX_Scer      Enzyme       0.00000   NaN         NaN         NaN\n",
       "19         PCX_Msmeg      Enzyme       0.00000   NaN         NaN         NaN\n",
       "20        PCX_Gtherm      Enzyme       0.00000   NaN         NaN         NaN\n",
       "21         Mdh_Ecoli      Enzyme       0.00000   NaN         NaN         NaN\n",
       "22          Mdh_Mdom      Enzyme       0.00000   NaN         NaN         NaN\n",
       "23         Mdh_Remer      Enzyme       0.00000   NaN         NaN         NaN\n",
       "24          Mdh_Taes      Enzyme       0.00000   NaN         NaN         NaN\n",
       "25     DNA_Sda_Msmeg  Metabolite       0.00000   NaN         NaN         NaN\n",
       "26      DNA_Sda_Bsub  Metabolite       0.00000   NaN         NaN         NaN\n",
       "27     DNA_Sda_Ecoli  Metabolite       0.00000   NaN         NaN         NaN\n",
       "28     DNA_Sda_Lpneu  Metabolite       0.00000   NaN         NaN         NaN\n",
       "29     DNA_PCX_Retli  Metabolite       0.00000   NaN         NaN         NaN\n",
       "30      DNA_PCX_Scer  Metabolite       0.00000   NaN         NaN         NaN\n",
       "31     DNA_PCX_Msmeg  Metabolite       0.00000   NaN         NaN         NaN\n",
       "32    DNA_PCX_Gtherm  Metabolite       0.00000   NaN         NaN         NaN\n",
       "33     DNA_Mdh_Ecoli  Metabolite       0.00000   NaN         NaN         NaN\n",
       "34      DNA_Mdh_Mdom  Metabolite       0.00000   NaN         NaN         NaN\n",
       "35     DNA_Mdh_Remer  Metabolite       0.00000   NaN         NaN         NaN\n",
       "36      DNA_Mdh_Taes  Metabolite       0.00000   NaN         NaN         NaN\n",
       "37               Pi+  Metabolite       0.00000   NaN         NaN         NaN"
      ]
     },
     "execution_count": 12,
     "metadata": {},
     "output_type": "execute_result"
    }
   ],
   "source": [
    "myModel.species"
   ]
  },
  {
   "cell_type": "code",
   "execution_count": 15,
   "metadata": {},
   "outputs": [],
   "source": [
    "allM = []\n",
    "for i in [0,1]:\n",
    "    params = {**siphon,**init_serine, **init_DNA, **regen(i)}\n",
    "    MH.setParameterScan(params)\n",
    "    results, metrics = MH.sensitivityAnalysis(metrics = [yld,amt,*etot])\n",
    "    parray = MH.conditions\n",
    "\n",
    "    allM.append(metrics)\n"
   ]
  },
  {
   "cell_type": "code",
   "execution_count": null,
   "metadata": {},
   "outputs": [
    {
     "name": "stdout",
     "output_type": "stream",
     "text": [
      "[634.7361016955786, 323.65888203180134, 1252.1579007186365]\n",
      "[727.3341702755655, 326.77137681949654, 1257.3916638547014]\n",
      "[0.334786509093541, 0.21474805669937902, 0.6607175457364196]\n",
      "[0.43503873193568104, 0.37953112475690076, 2.5214304094837097]\n"
     ]
    },
    {
     "data": {
      "image/png": "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",
      "text/plain": [
       "<Figure size 432x288 with 1 Axes>"
      ]
     },
     "metadata": {
      "needs_background": "light"
     },
     "output_type": "display_data"
    },
    {
     "data": {
      "image/png": "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",
      "text/plain": [
       "<Figure size 432x288 with 1 Axes>"
      ]
     },
     "metadata": {
      "needs_background": "light"
     },
     "output_type": "display_data"
    }
   ],
   "source": [
    "for i,t in enumerate(['Yield (mg malate/g serine)','Amount (g/L malate)']):\n",
    "    plt.figure()\n",
    "    num_bins = 15\n",
    "    for m in allM:\n",
    "        #plt.hist(m[:,i], bins = 20, alpha = 0.5, density = True)\n",
    "        mmax = max([m[:,i].max() for m in allM])\n",
    "        mmin = min([m[:,i].min() for m in allM])\n",
    "        bins = np.linspace(mmin, mmax,num_bins+1)\n",
    "        counts, _ = np.histogram(m[:,i], bins = bins)\n",
    "        bins = bins[:-1] + (bins[1] - bins[0])/2\n",
    "        probs = counts/float(counts.sum())\n",
    "        plt.bar(bins, probs, width=(mmax-mmin)/num_bins*0.95, alpha = 0.5)\n",
    "\n",
    "        print([m[:,i].mean(), m[:,i].std(), np.max(m[:,i])])\n",
    "    plt.plot([0],[0], alpha = 0)\n",
    "    plt.ylim([0,max(probs)*1.25])\n",
    "    plt.legend(['$N$ = '+str(N),'wo/ cofactor regen.', 'w/ cofactor regen.'], frameon = False, borderpad = 0)\n",
    "    plt.ylabel('pmf', fontsize = 12, labelpad = 7)\n",
    "    plt.xlabel(t, fontsize = 12, labelpad = 10)"
   ]
  },
  {
   "cell_type": "code",
   "execution_count": 16,
   "metadata": {},
   "outputs": [
    {
     "data": {
      "text/plain": [
       "<AxesSubplot:>"
      ]
     },
     "execution_count": 16,
     "metadata": {},
     "output_type": "execute_result"
    },
    {
     "data": {
      "image/png": "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",
      "text/plain": [
       "<Figure size 432x288 with 1 Axes>"
      ]
     },
     "metadata": {
      "needs_background": "light"
     },
     "output_type": "display_data"
    }
   ],
   "source": [
    "df = pd.DataFrame({**params,'yld':allM[0][:,0]})\n",
    "(df.corr()['yld'][params.keys()]).plot(kind = 'bar', legend = False, rot = 75)"
   ]
  },
  {
   "cell_type": "code",
   "execution_count": 17,
   "metadata": {},
   "outputs": [],
   "source": [
    "var_names = (['DNA_'+d for d in sdaV+pcxV+mdhV])\n",
    "corr_list = []\n",
    "for idx,v in enumerate(var_names):\n",
    "    temp_df = df.loc[df[v] != 0]\n",
    "    corr_list.append(temp_df.corr()['yld'][params.keys()][idx+4])\n"
   ]
  },
  {
   "cell_type": "code",
   "execution_count": 18,
   "metadata": {},
   "outputs": [
    {
     "data": {
      "text/plain": [
       "<BarContainer object of 12 artists>"
      ]
     },
     "execution_count": 18,
     "metadata": {},
     "output_type": "execute_result"
    },
    {
     "data": {
      "image/png": "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",
      "text/plain": [
       "<Figure size 432x288 with 1 Axes>"
      ]
     },
     "metadata": {
      "needs_background": "light"
     },
     "output_type": "display_data"
    }
   ],
   "source": [
    "plt.bar(np.arange(12),corr_list)"
   ]
  },
  {
   "cell_type": "code",
   "execution_count": 20,
   "metadata": {},
   "outputs": [
    {
     "data": {
      "text/plain": [
       "<AxesSubplot:>"
      ]
     },
     "execution_count": 20,
     "metadata": {},
     "output_type": "execute_result"
    },
    {
     "data": {
      "image/png": "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",
      "text/plain": [
       "<Figure size 432x288 with 1 Axes>"
      ]
     },
     "metadata": {
      "needs_background": "light"
     },
     "output_type": "display_data"
    }
   ],
   "source": [
    "df = pd.DataFrame(parray, columns=params.keys())\n",
    "df['yld'] = allM[0][:,0]\n",
    "\n",
    "(df[df['DNA_'+sdaV[0]]>0].corr()['yld'][params.keys()]).plot(kind = 'bar', legend = False, rot = 75)"
   ]
  },
  {
   "cell_type": "code",
   "execution_count": null,
   "metadata": {},
   "outputs": [],
   "source": [
    "import plotly.express as px\n",
    "total = (MH.conditions[:,4:].sum(1))\n",
    "stats = (MH.conditions[:,4:8].sum(1))/total\n",
    "bus = (MH.conditions[:,8:12].sum(1))/total\n",
    "design = (MH.conditions[:,12:].sum(1))/total\n",
    "df = pd.DataFrame({'Sda':stats, 'PCX':bus, 'Mdh':design, \"Yield\": ylds})\n",
    "fig = px.scatter_ternary(df, a=\"Sda\", b=\"PCX\", c=\"Mdh\", opacity =0.05, color = \"Yield\", size = np.ones(N), size_max=25)\n",
    "fig.show()"
   ]
  }
 ],
 "metadata": {
  "kernelspec": {
   "display_name": "Python 3.7.6 ('txtl-sim')",
   "language": "python",
   "name": "python3"
  },
  "language_info": {
   "codemirror_mode": {
    "name": "ipython",
    "version": 3
   },
   "file_extension": ".py",
   "mimetype": "text/x-python",
   "name": "python",
   "nbconvert_exporter": "python",
   "pygments_lexer": "ipython3",
   "version": "3.7.6"
<<<<<<< Updated upstream
=======
  },
  "vscode": {
   "interpreter": {
    "hash": "f543d9e5f9a66fa15e5df6a673ace45eca063fa5ea1e663287fb3ebcaa0798bc"
   }
>>>>>>> Stashed changes
  }
 },
 "nbformat": 4,
 "nbformat_minor": 4
}
