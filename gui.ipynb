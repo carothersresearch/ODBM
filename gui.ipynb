{
 "cells": [
  {
   "cell_type": "code",
   "execution_count": 76,
   "metadata": {},
   "outputs": [],
   "source": [
    "from tkinter import *\n",
    "from os.path import exists\n",
    "import pandas as pd\n",
    "from odbm.odbm_main import ModelBuilder, ModelHandler\n",
    "from odbm.utils import extractParams, fmt\n"
   ]
  },
  {
   "cell_type": "code",
   "execution_count": 62,
   "metadata": {},
   "outputs": [],
   "source": [
    "# Checks if model path given by user exists and builds model.\n",
    "def loadModel(model_path,root):\n",
    "    global myModel #create global variable so it is accessible in main\n",
    "    if exists(model_path) and model_path.endswith(('.xls','.xlsx')):\n",
    "        model_species = pd.read_excel(model_path, sheet_name = 'Species & Base Mechanisms', engine = 'openpyxl').dropna('index','all')\n",
    "        model_rxns = pd.read_excel(model_path, sheet_name = 'Reaction', engine = 'openpyxl').dropna('index','all')\n",
    "        myModel = ModelBuilder(model_species, model_rxns)\n",
    "        print('Model successfully built')\n",
    "        modelWindow(myModel, model_path, root)\n",
    "\n",
    "    else:\n",
    "        if exists(model_path):\n",
    "            raise TypeError('Please pass in an excel compatible workbook with sheets named \"Species & Base Mechanisms\" and \"Reaction\"')\n",
    "        else:\n",
    "            raise FileExistsError('Error: No file exists with given name.')"
   ]
  },
  {
   "cell_type": "code",
   "execution_count": 133,
   "metadata": {},
   "outputs": [
    {
     "name": "stdout",
     "output_type": "stream",
     "text": [
      "Model successfully built\n"
     ]
    }
   ],
   "source": [
    "# Main Window\n",
    "def __init__():\n",
    "    root = Tk()\n",
    "    frame = Frame(root)\n",
    "    frame.pack()\n",
    "\n",
    "    welcome = Label(frame, text = \"Welcome to ODBM \\n Please insert file path for model to load:\")\n",
    "    welcome.config(font = ('Arial', 12))\n",
    "    entry = Entry(frame, width = 40)\n",
    "    loadbutton = Button(frame, text=\"Load Model\", fg=\"blue\", command = lambda:loadModel(entry.get(),root))\n",
    "\n",
    "    welcome.pack()\n",
    "    loadbutton.pack(side = BOTTOM)\n",
    "    entry.pack()\n",
    "    root.mainloop()\n",
    "\n",
    "__init__()"
   ]
  },
  {
   "cell_type": "code",
   "execution_count": 126,
   "metadata": {},
   "outputs": [],
   "source": [
    "# 2nd Window\n",
    "def modelWindow(myModel, model_path, root):\n",
    "\n",
    "    frame, root = newWindow(root)\n",
    "\n",
    "    welcome = Label(frame, text = \"Model successfully loaded! \")\n",
    "    welcome.config(font = ('Arial', 12))\n",
    "    welcome.pack()\n",
    "    \n",
    "    cancel_button = Button(frame, text=\"Cancel\", fg=\"blue\",command = lambda: cancelButton(root)) \n",
    "    save_button = Button(frame, text = 'Save Model', fg = 'blue', command = lambda: saveModelTxt(myModel,model_path,frame))\n",
    "    simulate_button = Button(frame, text = 'Simulate Model', fg = 'blue', command = lambda: runSimulation(myModel, model_path, root)) \n",
    "    edit_button = Button(frame, text = 'Edit Model', fg = 'blue') # need a command to open edit window\n",
    "\n",
    "    cancel_button.pack(side = LEFT)\n",
    "    save_button.pack(side = LEFT)\n",
    "    simulate_button.pack(side = LEFT)\n",
    "    edit_button.pack(side = LEFT)\n"
   ]
  },
  {
   "cell_type": "code",
   "execution_count": 129,
   "metadata": {},
   "outputs": [],
   "source": [
    "def cancelButton(root):\n",
    "    root.destroy()\n",
    "    __init__()\n",
    "\n",
    "def newWindow(root):\n",
    "    root.destroy()\n",
    "    root = Tk()\n",
    "    frame = Frame(root)\n",
    "    frame.pack()\n",
    "    return frame, root\n",
    "\n",
    "def saveModelTxt(myModel,model_path,frame):\n",
    "    modelfile = model_path[:-4] + 'txt'\n",
    "    myModel.saveModel(modelfile)\n",
    "    save_msg = Label(frame, text = 'Model successfully saved.')\n",
    "    save_msg.pack(side = BOTTOM)\n",
    "    return modelfile\n",
    "\n",
    "\n",
    "def runSimulation(myModel, model_path, root):\n",
    "\n",
    "    # Close previous window and open new\n",
    "    frame, root = newWindow(root)\n",
    "\n",
    "    # Set up ModelHandler instance and selections for simulation\n",
    "    modelfile = saveModelTxt(myModel,model_path, frame)\n",
    "    with open(modelfile,'r') as m:\n",
    "        MH = ModelHandler(m.read())\n",
    "    selections = list(map(fmt, myModel.species['Label'])) + list(myModel.rxns['Label']) + ['time']\n",
    "\n",
    "\n",
    "    #Add entries, buttons, labels\n",
    "    start = Entry(frame, width = 10)\n",
    "    end = Entry(frame, width = 10)\n",
    "    points = Entry(frame, width = 10)\n",
    "    titles = Label(frame, text = \"Start: \\t End: \\t Points: \\n\")\n",
    "    run_button = Button(frame, text = 'Run Simulation',  fg = 'blue', \n",
    "    command = lambda : [MH.setSimParams(int(start.get()),int(end.get()),int(points.get()), selections=selections), \n",
    "                        postSimulation(MH, model_path, root)])\n",
    "    # Does sensitivity analysis run simulation even if we don't want to do sensitivity analysis? \n",
    "    # It is the only place in odbm_main that calls simulate\n",
    "    # Right now calling sensitivityAnalysis in \"postSimulation\" \n",
    "    # even though that is technically where simulation is happening because want to be able to save output\n",
    "\n",
    "    titles.pack(side = LEFT)\n",
    "    start.pack(side = LEFT)\n",
    "    end.pack(side = LEFT)\n",
    "    points.pack(side = LEFT)\n",
    "    run_button.pack(side = RIGHT)\n",
    "\n",
    "def postSimulation(MH, model_path, root):\n",
    "    # Close previous window and open new\n",
    "    frame, root = newWindow(root)\n",
    "\n",
    "    results = MH.sensitivityAnalysis()\n",
    "\n",
    "    #Add entries, buttons, labels\n",
    "    back = Button(frame, text = 'Back',  fg = 'blue', command = lambda: runSimulation(myModel,model_path,root)))\n",
    "    save = Button(frame,text = \"Save Simulation Results\", fg = 'blue') #add function to save sim results to excel file\n",
    "    visualize = Button(frame, text = 'Visualize Simulation Results', fg = 'blue') #use vis.py, let user input reactions and/or species\n",
    "\n",
    "\n",
    "    \n"
   ]
  },
  {
   "cell_type": "code",
   "execution_count": null,
   "metadata": {},
   "outputs": [],
   "source": [
    "C:\\Users\\rycar\\Documents\\GitHub\\ODBM\\Examples\\model_definition.xlsx"
   ]
  },
  {
   "cell_type": "code",
   "execution_count": 120,
   "metadata": {},
   "outputs": [
    {
     "data": {
      "text/html": [
       "<div>\n",
       "<style scoped>\n",
       "    .dataframe tbody tr th:only-of-type {\n",
       "        vertical-align: middle;\n",
       "    }\n",
       "\n",
       "    .dataframe tbody tr th {\n",
       "        vertical-align: top;\n",
       "    }\n",
       "\n",
       "    .dataframe thead th {\n",
       "        text-align: right;\n",
       "    }\n",
       "</style>\n",
       "<table border=\"1\" class=\"dataframe\">\n",
       "  <thead>\n",
       "    <tr style=\"text-align: right;\">\n",
       "      <th></th>\n",
       "      <th>Label</th>\n",
       "      <th>Enzyme</th>\n",
       "      <th>Mechanism</th>\n",
       "      <th>Substrate</th>\n",
       "      <th>Cofactor</th>\n",
       "      <th>Product</th>\n",
       "      <th>Parameters</th>\n",
       "      <th>Unnamed: 7</th>\n",
       "      <th>Unnamed: 8</th>\n",
       "    </tr>\n",
       "  </thead>\n",
       "  <tbody>\n",
       "    <tr>\n",
       "      <th>0</th>\n",
       "      <td>R1</td>\n",
       "      <td>NaN</td>\n",
       "      <td>MA</td>\n",
       "      <td>A,B</td>\n",
       "      <td>NaN</td>\n",
       "      <td>C</td>\n",
       "      <td>k:10</td>\n",
       "      <td>NaN</td>\n",
       "      <td>NaN</td>\n",
       "    </tr>\n",
       "    <tr>\n",
       "      <th>1</th>\n",
       "      <td>R2</td>\n",
       "      <td>NaN</td>\n",
       "      <td>MA</td>\n",
       "      <td>C</td>\n",
       "      <td>NaN</td>\n",
       "      <td>NaN</td>\n",
       "      <td>k:.1</td>\n",
       "      <td>NaN</td>\n",
       "      <td>NaN</td>\n",
       "    </tr>\n",
       "    <tr>\n",
       "      <th>2</th>\n",
       "      <td>R3</td>\n",
       "      <td>NaN</td>\n",
       "      <td>MA</td>\n",
       "      <td>B</td>\n",
       "      <td>NaN</td>\n",
       "      <td>2A</td>\n",
       "      <td>k:2</td>\n",
       "      <td>NaN</td>\n",
       "      <td>NaN</td>\n",
       "    </tr>\n",
       "  </tbody>\n",
       "</table>\n",
       "</div>"
      ],
      "text/plain": [
       "  Label  Enzyme Mechanism Substrate  Cofactor Product Parameters  Unnamed: 7  \\\n",
       "0    R1     NaN        MA       A,B       NaN       C       k:10         NaN   \n",
       "1    R2     NaN        MA         C       NaN     NaN       k:.1         NaN   \n",
       "2    R3     NaN        MA         B       NaN      2A        k:2         NaN   \n",
       "\n",
       "   Unnamed: 8  \n",
       "0         NaN  \n",
       "1         NaN  \n",
       "2         NaN  "
      ]
     },
     "execution_count": 120,
     "metadata": {},
     "output_type": "execute_result"
    }
   ],
   "source": [
    "myModel.rxns"
   ]
  },
  {
   "cell_type": "code",
   "execution_count": 75,
   "metadata": {},
   "outputs": [
    {
     "ename": "AttributeError",
     "evalue": "'Series' object has no attribute 'split'",
     "output_type": "error",
     "traceback": [
      "\u001b[1;31m---------------------------------------------------------------------------\u001b[0m",
      "\u001b[1;31mAttributeError\u001b[0m                            Traceback (most recent call last)",
      "\u001b[1;32m<ipython-input-75-26c802efae75>\u001b[0m in \u001b[0;36m<module>\u001b[1;34m\u001b[0m\n\u001b[1;32m----> 1\u001b[1;33m \u001b[0mmyModel\u001b[0m\u001b[1;33m.\u001b[0m\u001b[0mget_products\u001b[0m\u001b[1;33m(\u001b[0m\u001b[0mid\u001b[0m \u001b[1;33m=\u001b[0m \u001b[1;34m'R1'\u001b[0m\u001b[1;33m)\u001b[0m\u001b[1;33m\u001b[0m\u001b[1;33m\u001b[0m\u001b[0m\n\u001b[0m",
      "\u001b[1;32mc:\\Users\\rycar\\Documents\\GitHub\\ODBM\\odbm\\odbm_main.py\u001b[0m in \u001b[0;36mget_products\u001b[1;34m(self, id)\u001b[0m\n\u001b[0;32m    343\u001b[0m         \"\"\"\n\u001b[0;32m    344\u001b[0m         \u001b[0mr\u001b[0m \u001b[1;33m=\u001b[0m \u001b[0mself\u001b[0m\u001b[1;33m.\u001b[0m\u001b[0mget_reaction\u001b[0m\u001b[1;33m(\u001b[0m\u001b[0mid\u001b[0m\u001b[1;33m)\u001b[0m\u001b[1;33m\u001b[0m\u001b[1;33m\u001b[0m\u001b[0m\n\u001b[1;32m--> 345\u001b[1;33m         \u001b[1;32mreturn\u001b[0m \u001b[0mlist\u001b[0m\u001b[1;33m(\u001b[0m\u001b[0mmap\u001b[0m\u001b[1;33m(\u001b[0m\u001b[0mfmt\u001b[0m\u001b[1;33m,\u001b[0m \u001b[0mr\u001b[0m\u001b[1;33m[\u001b[0m\u001b[1;34m'Product'\u001b[0m\u001b[1;33m]\u001b[0m\u001b[1;33m.\u001b[0m\u001b[0msplit\u001b[0m\u001b[1;33m(\u001b[0m\u001b[1;34m';'\u001b[0m\u001b[1;33m)\u001b[0m\u001b[1;33m)\u001b[0m\u001b[1;33m)\u001b[0m\u001b[1;33m\u001b[0m\u001b[1;33m\u001b[0m\u001b[0m\n\u001b[0m\u001b[0;32m    346\u001b[0m \u001b[1;33m\u001b[0m\u001b[0m\n\u001b[0;32m    347\u001b[0m \u001b[1;32mclass\u001b[0m \u001b[0mModelHandler\u001b[0m\u001b[1;33m:\u001b[0m\u001b[1;33m\u001b[0m\u001b[1;33m\u001b[0m\u001b[0m\n",
      "\u001b[1;32m~\\anaconda3\\lib\\site-packages\\pandas\\core\\generic.py\u001b[0m in \u001b[0;36m__getattr__\u001b[1;34m(self, name)\u001b[0m\n\u001b[0;32m   5272\u001b[0m             \u001b[1;32mif\u001b[0m \u001b[0mself\u001b[0m\u001b[1;33m.\u001b[0m\u001b[0m_info_axis\u001b[0m\u001b[1;33m.\u001b[0m\u001b[0m_can_hold_identifiers_and_holds_name\u001b[0m\u001b[1;33m(\u001b[0m\u001b[0mname\u001b[0m\u001b[1;33m)\u001b[0m\u001b[1;33m:\u001b[0m\u001b[1;33m\u001b[0m\u001b[1;33m\u001b[0m\u001b[0m\n\u001b[0;32m   5273\u001b[0m                 \u001b[1;32mreturn\u001b[0m \u001b[0mself\u001b[0m\u001b[1;33m[\u001b[0m\u001b[0mname\u001b[0m\u001b[1;33m]\u001b[0m\u001b[1;33m\u001b[0m\u001b[1;33m\u001b[0m\u001b[0m\n\u001b[1;32m-> 5274\u001b[1;33m             \u001b[1;32mreturn\u001b[0m \u001b[0mobject\u001b[0m\u001b[1;33m.\u001b[0m\u001b[0m__getattribute__\u001b[0m\u001b[1;33m(\u001b[0m\u001b[0mself\u001b[0m\u001b[1;33m,\u001b[0m \u001b[0mname\u001b[0m\u001b[1;33m)\u001b[0m\u001b[1;33m\u001b[0m\u001b[1;33m\u001b[0m\u001b[0m\n\u001b[0m\u001b[0;32m   5275\u001b[0m \u001b[1;33m\u001b[0m\u001b[0m\n\u001b[0;32m   5276\u001b[0m     \u001b[1;32mdef\u001b[0m \u001b[0m__setattr__\u001b[0m\u001b[1;33m(\u001b[0m\u001b[0mself\u001b[0m\u001b[1;33m,\u001b[0m \u001b[0mname\u001b[0m\u001b[1;33m:\u001b[0m \u001b[0mstr\u001b[0m\u001b[1;33m,\u001b[0m \u001b[0mvalue\u001b[0m\u001b[1;33m)\u001b[0m \u001b[1;33m->\u001b[0m \u001b[1;32mNone\u001b[0m\u001b[1;33m:\u001b[0m\u001b[1;33m\u001b[0m\u001b[1;33m\u001b[0m\u001b[0m\n",
      "\u001b[1;31mAttributeError\u001b[0m: 'Series' object has no attribute 'split'"
     ]
    }
   ],
   "source": [
    "myModel.get_products(id = 'R1')"
   ]
  },
  {
   "cell_type": "code",
   "execution_count": null,
   "metadata": {},
   "outputs": [],
   "source": []
  }
 ],
 "metadata": {
  "interpreter": {
   "hash": "3e94562846622edf0cdf01e5da890585ede3da54b1c07682c7a3403648bea302"
  },
  "kernelspec": {
   "display_name": "Python 3.7.6 64-bit ('base': conda)",
   "language": "python",
   "name": "python3"
  },
  "language_info": {
   "codemirror_mode": {
    "name": "ipython",
    "version": 3
   },
   "file_extension": ".py",
   "mimetype": "text/x-python",
   "name": "python",
   "nbconvert_exporter": "python",
   "pygments_lexer": "ipython3",
   "version": "3.7.6"
  },
  "orig_nbformat": 4
 },
 "nbformat": 4,
 "nbformat_minor": 2
}
