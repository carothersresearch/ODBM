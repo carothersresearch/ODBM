{
 "cells": [
  {
   "cell_type": "code",
   "execution_count": 3,
   "metadata": {},
   "outputs": [],
   "source": [
    "import pandas as pd\n",
    "import numpy as np\n",
    "import tellurium as te\n",
    "from buildModelFromExcel import initializeValues, writeReactions"
   ]
  },
  {
   "cell_type": "code",
   "execution_count": 4,
   "metadata": {},
   "outputs": [],
   "source": [
    "model_species = pd.read_excel('model_definition.xlsx', sheet_name = 'Species', engine = 'openpyxl')\n",
    "model_rxns = pd.read_excel('model_definition.xlsx', sheet_name = 'Reaction', engine = 'openpyxl')\n"
   ]
  },
  {
   "cell_type": "code",
   "execution_count": 51,
   "metadata": {},
   "outputs": [],
   "source": [
    "#check mechanism\n",
    "\n",
    "#check if a concentration is held constant\n",
    "\n",
    "#function to add events\n"
   ]
  },
  {
   "cell_type": "code",
   "execution_count": 5,
   "metadata": {},
   "outputs": [],
   "source": [
    "initializeValues(model_species=model_species, model_rxns=model_rxns)"
   ]
  },
  {
   "cell_type": "code",
   "execution_count": 9,
   "metadata": {},
   "outputs": [],
   "source": [
    "model = open('model.txt','r')"
   ]
  },
  {
   "cell_type": "code",
   "execution_count": 10,
   "metadata": {},
   "outputs": [
    {
     "ename": "Exception",
     "evalue": "Antimony: Error in model string, line 1:  syntax error, unexpected '<'",
     "output_type": "error",
     "traceback": [
      "\u001b[1;31m---------------------------------------------------------------------------\u001b[0m",
      "\u001b[1;31mException\u001b[0m                                 Traceback (most recent call last)",
      "\u001b[1;32m<ipython-input-10-fb0d5c338b7e>\u001b[0m in \u001b[0;36m<module>\u001b[1;34m\u001b[0m\n\u001b[1;32m----> 1\u001b[1;33m \u001b[0mte\u001b[0m\u001b[1;33m.\u001b[0m\u001b[0mloada\u001b[0m\u001b[1;33m(\u001b[0m\u001b[0mmodel\u001b[0m\u001b[1;33m)\u001b[0m\u001b[1;33m\u001b[0m\u001b[1;33m\u001b[0m\u001b[0m\n\u001b[0m",
      "\u001b[1;32m~\\.conda\\envs\\ODBM\\lib\\site-packages\\tellurium\\tellurium.py\u001b[0m in \u001b[0;36mloada\u001b[1;34m(ant)\u001b[0m\n\u001b[0;32m    517\u001b[0m     \u001b[1;33m:\u001b[0m\u001b[0mrtype\u001b[0m\u001b[1;33m:\u001b[0m \u001b[0mroadrunner\u001b[0m\u001b[1;33m.\u001b[0m\u001b[0mExtendedRoadRunner\u001b[0m\u001b[1;33m\u001b[0m\u001b[1;33m\u001b[0m\u001b[0m\n\u001b[0;32m    518\u001b[0m     \"\"\"\n\u001b[1;32m--> 519\u001b[1;33m     \u001b[1;32mreturn\u001b[0m \u001b[0mloadAntimonyModel\u001b[0m\u001b[1;33m(\u001b[0m\u001b[0mant\u001b[0m\u001b[1;33m)\u001b[0m\u001b[1;33m\u001b[0m\u001b[1;33m\u001b[0m\u001b[0m\n\u001b[0m\u001b[0;32m    520\u001b[0m \u001b[1;33m\u001b[0m\u001b[0m\n\u001b[0;32m    521\u001b[0m \u001b[1;33m\u001b[0m\u001b[0m\n",
      "\u001b[1;32m~\\.conda\\envs\\ODBM\\lib\\site-packages\\tellurium\\tellurium.py\u001b[0m in \u001b[0;36mloadAntimonyModel\u001b[1;34m(ant)\u001b[0m\n\u001b[0;32m    533\u001b[0m     \u001b[1;33m:\u001b[0m\u001b[0mrtype\u001b[0m\u001b[1;33m:\u001b[0m \u001b[0mroadrunner\u001b[0m\u001b[1;33m.\u001b[0m\u001b[0mExtendedRoadRunner\u001b[0m\u001b[1;33m\u001b[0m\u001b[1;33m\u001b[0m\u001b[0m\n\u001b[0;32m    534\u001b[0m     \"\"\"\n\u001b[1;32m--> 535\u001b[1;33m     \u001b[0msbml\u001b[0m \u001b[1;33m=\u001b[0m \u001b[0mantimonyToSBML\u001b[0m\u001b[1;33m(\u001b[0m\u001b[0mant\u001b[0m\u001b[1;33m)\u001b[0m\u001b[1;33m\u001b[0m\u001b[1;33m\u001b[0m\u001b[0m\n\u001b[0m\u001b[0;32m    536\u001b[0m     \u001b[1;32mreturn\u001b[0m \u001b[0mroadrunner\u001b[0m\u001b[1;33m.\u001b[0m\u001b[0mRoadRunner\u001b[0m\u001b[1;33m(\u001b[0m\u001b[0msbml\u001b[0m\u001b[1;33m)\u001b[0m\u001b[1;33m\u001b[0m\u001b[1;33m\u001b[0m\u001b[0m\n\u001b[0;32m    537\u001b[0m \u001b[1;33m\u001b[0m\u001b[0m\n",
      "\u001b[1;32m~\\.conda\\envs\\ODBM\\lib\\site-packages\\tellurium\\tellurium.py\u001b[0m in \u001b[0;36mantimonyToSBML\u001b[1;34m(ant)\u001b[0m\n\u001b[0;32m    598\u001b[0m     \u001b[1;32melse\u001b[0m\u001b[1;33m:\u001b[0m\u001b[1;33m\u001b[0m\u001b[1;33m\u001b[0m\u001b[0m\n\u001b[0;32m    599\u001b[0m         \u001b[0mcode\u001b[0m \u001b[1;33m=\u001b[0m \u001b[0mantimony\u001b[0m\u001b[1;33m.\u001b[0m\u001b[0mloadAntimonyString\u001b[0m\u001b[1;33m(\u001b[0m\u001b[0mant\u001b[0m\u001b[1;33m)\u001b[0m\u001b[1;33m\u001b[0m\u001b[1;33m\u001b[0m\u001b[0m\n\u001b[1;32m--> 600\u001b[1;33m     \u001b[0m_checkAntimonyReturnCode\u001b[0m\u001b[1;33m(\u001b[0m\u001b[0mcode\u001b[0m\u001b[1;33m)\u001b[0m\u001b[1;33m\u001b[0m\u001b[1;33m\u001b[0m\u001b[0m\n\u001b[0m\u001b[0;32m    601\u001b[0m     \u001b[0mmid\u001b[0m \u001b[1;33m=\u001b[0m \u001b[0mantimony\u001b[0m\u001b[1;33m.\u001b[0m\u001b[0mgetMainModuleName\u001b[0m\u001b[1;33m(\u001b[0m\u001b[1;33m)\u001b[0m\u001b[1;33m\u001b[0m\u001b[1;33m\u001b[0m\u001b[0m\n\u001b[0;32m    602\u001b[0m     \u001b[1;32mreturn\u001b[0m \u001b[0mantimony\u001b[0m\u001b[1;33m.\u001b[0m\u001b[0mgetSBMLString\u001b[0m\u001b[1;33m(\u001b[0m\u001b[0mmid\u001b[0m\u001b[1;33m)\u001b[0m\u001b[1;33m\u001b[0m\u001b[1;33m\u001b[0m\u001b[0m\n",
      "\u001b[1;32m~\\.conda\\envs\\ODBM\\lib\\site-packages\\tellurium\\tellurium.py\u001b[0m in \u001b[0;36m_checkAntimonyReturnCode\u001b[1;34m(code)\u001b[0m\n\u001b[0;32m    292\u001b[0m     \"\"\"\n\u001b[0;32m    293\u001b[0m     \u001b[1;32mif\u001b[0m \u001b[0mcode\u001b[0m \u001b[1;33m<\u001b[0m \u001b[1;36m0\u001b[0m\u001b[1;33m:\u001b[0m\u001b[1;33m\u001b[0m\u001b[1;33m\u001b[0m\u001b[0m\n\u001b[1;32m--> 294\u001b[1;33m         \u001b[1;32mraise\u001b[0m \u001b[0mException\u001b[0m\u001b[1;33m(\u001b[0m\u001b[1;34m'Antimony: {}'\u001b[0m\u001b[1;33m.\u001b[0m\u001b[0mformat\u001b[0m\u001b[1;33m(\u001b[0m\u001b[0mantimony\u001b[0m\u001b[1;33m.\u001b[0m\u001b[0mgetLastError\u001b[0m\u001b[1;33m(\u001b[0m\u001b[1;33m)\u001b[0m\u001b[1;33m)\u001b[0m\u001b[1;33m)\u001b[0m\u001b[1;33m\u001b[0m\u001b[1;33m\u001b[0m\u001b[0m\n\u001b[0m\u001b[0;32m    295\u001b[0m \u001b[1;33m\u001b[0m\u001b[0m\n\u001b[0;32m    296\u001b[0m \u001b[1;32mdef\u001b[0m \u001b[0mcolorCycle\u001b[0m\u001b[1;33m(\u001b[0m\u001b[0mcolor\u001b[0m\u001b[1;33m,\u001b[0m\u001b[0mpolyNumber\u001b[0m\u001b[1;33m)\u001b[0m\u001b[1;33m:\u001b[0m\u001b[1;33m\u001b[0m\u001b[1;33m\u001b[0m\u001b[0m\n",
      "\u001b[1;31mException\u001b[0m: Antimony: Error in model string, line 1:  syntax error, unexpected '<'"
     ]
    }
   ],
   "source": [
    "te.loada(model)"
   ]
  },
  {
   "cell_type": "code",
   "execution_count": 91,
   "metadata": {},
   "outputs": [],
   "source": [
    "#def initializeValues(model_species, model_rxns):\n",
    "\n",
    "model_str = ''\n",
    "model_str += '#Initialize concentrations \\n'\n",
    "for sp in model_species.iterrows():\n",
    "    model_str += (sp[1]['Label'] +'=' + str(sp[1]['Starting Conc']) + '; \\n')\n",
    "    \n",
    "model_str += '\\n#Initialize kinetic values \\n'\n",
    "for rxn in model_rxns.iterrows():\n",
    "    if not pd.isnull(model_rxns.iloc[rxn[0]]['K1']):\n",
    "        #initialize value\n",
    "        model_str += ('K1_'+rxn[1]['Label'] +'=' + str(rxn[1]['K1']) + '; \\n')\n",
    "    if not pd.isnull(model_rxns.iloc[rxn[0]]['K2']):\n",
    "        model_str += ('K2_'+rxn[1]['Label'] +'=' + str(rxn[1]['K2']) + '; \\n')\n",
    "    if not pd.isnull(model_rxns.iloc[rxn[0]]['K2']):\n",
    "        model_str += ('K3_'+rxn[1]['Label'] +'=' + str(rxn[1]['K3']) + '; \\n')\n",
    "\n",
    "with open('model.txt', 'w') as f:\n",
    "    f.write(model_str)\n",
    "    "
   ]
  },
  {
   "cell_type": "code",
   "execution_count": 89,
   "metadata": {},
   "outputs": [],
   "source": [
    "def writeReactions():"
   ]
  },
  {
   "cell_type": "code",
   "execution_count": null,
   "metadata": {},
   "outputs": [],
   "source": [
    "def addEvents():"
   ]
  },
  {
   "cell_type": "code",
   "execution_count": 94,
   "metadata": {},
   "outputs": [],
   "source": [
    "rxn_str = '\\n #Define reactions \\n'\n",
    "for rxn in model_rxns.iterrows():\n",
    "    if rxn[1]['Mechanism'] == 'MA':\n",
    "        if str(rxn[1]['Enzyme']) != 'nan':\n",
    "            # mass action kinetics\n",
    "            for r in rxn[1]['Reactant'].split(','):\n",
    "                rxn_str += r + ' +'\n",
    "            rxn_str = rxn_str[:-2] + ' + ' + rxn[1]['Enzyme'] + ' -> '\n",
    "            for p in rxn[1]['Product'].split(','):\n",
    "                rxn_str += p + ' +'\n",
    "            rxn_str = rxn_str[:-2] + ' + ' + rxn[1]['Enzyme'] + '; '   \n",
    "            rxn_str += 'K1_' + rxn[1]['Label']\n",
    "            for p in rxn[1]['Product'].split(','):\n",
    "                rxn_str += '*' + p \n",
    "            rxn_str += ' \\n'\n",
    "        else:\n",
    "            for r in rxn[1]['Reactant'].split(','):\n",
    "                rxn_str += r + ' +'\n",
    "            rxn_str = rxn_str[:-2] + ' -> '\n",
    "            for p in rxn[1]['Product'].split(','):\n",
    "                rxn_str += p + ' +'\n",
    "            rxn_str = rxn_str[:-2] + '; '\n",
    "            rxn_str += 'K1_' + rxn[1]['Label']\n",
    "            for p in rxn[1]['Product'].split(','):\n",
    "                rxn_str += '*' + p \n",
    "            rxn_str += ' \\n'\n",
    "\n",
    "            "
   ]
  },
  {
   "cell_type": "code",
   "execution_count": 93,
   "metadata": {},
   "outputs": [],
   "source": [
    "with open('model.txt', 'a') as f:\n",
    "    f.write(rxn_str)\n",
    "    "
   ]
  },
  {
   "cell_type": "code",
   "execution_count": 83,
   "metadata": {},
   "outputs": [],
   "source": [
    "rxn_str = ''\n",
    "for p in rxn[1]['Product'].split(','):\n",
    "    rxn_str += p + ' +'\n",
    "rxn_str = rxn_str[:-2] + '; '\n",
    "rxn_str += 'K1_' + rxn[1]['Label']\n",
    "for p in rxn[1]['Product'].split(','):\n",
    "    rxn_str += '*' + p "
   ]
  },
  {
   "cell_type": "code",
   "execution_count": 84,
   "metadata": {},
   "outputs": [
    {
     "data": {
      "text/plain": [
       "'t3 + t3; K1_R22*t3* t3'"
      ]
     },
     "execution_count": 84,
     "metadata": {},
     "output_type": "execute_result"
    }
   ],
   "source": [
    "rxn_str"
   ]
  },
  {
   "cell_type": "code",
   "execution_count": 74,
   "metadata": {},
   "outputs": [
    {
     "data": {
      "text/plain": [
       "'#Initialize concentrations \\nCO2=10.0; \\nGlycine=10.0; \\nSerine=2.0; \\nNH3=2.0; \\nPyruvic acid=2.0; \\nOxaloacetic acid=2.0; \\nMalic acid=2.0; \\nATP=10.0; \\nAMP=1.0; \\nADP=1.0; \\nNADH=10.0; \\nNAD+=1.0; \\nFdh=2.0; \\nShmt=2.0; \\nSda=2.0; \\nPCX=2.0; \\nMdh=2.0; \\nPPT=2.0; \\nPK=2.0; \\nFdh_DNA=0.2; \\nShmt_DNA=0.2; \\nSda_DNA=0.2; \\nPCX_DNA=0.2; \\nMdh_DNA=0.2; \\nPPT_DNA=0.2; \\nPK_DNA=0.2; \\nRNAP=6.0; \\nRibosome=8.0; \\nFdh_RNA=0.0; \\nShmt_RNA=0.0; \\nSda_RNA=0.0; \\nPCX_RNA=0.0; \\nMdh_RNA=0.0; \\nPPT_RNA=0.0; \\nPK_RNA=0.0; \\n\\n#Initialize kinetic values \\nK1_R1=0.2; \\nK1_R2=1.0; \\nK1_R3=1.0; \\nK1_R4=1.0; \\nK1_R5=0.2; \\nK1_R6=0.2; \\nK1_R7=0.2; \\nK1_R8=3.0; \\nK1_R9=3.0; \\nK1_R10=3.0; \\nK1_R11=3.0; \\nK1_R12=3.0; \\nK1_R13=3.0; \\nK1_R14=3.0; \\nK1_R15=1.0; \\nK1_R16=1.0; \\nK1_R17=1.0; \\nK1_R18=1.0; \\nK1_R19=1.0; \\nK1_R20=1.0; \\nK1_R21=1.0; \\nK1_R22=10.0; \\n'"
      ]
     },
     "execution_count": 74,
     "metadata": {},
     "output_type": "execute_result"
    }
   ],
   "source": []
  },
  {
   "cell_type": "code",
   "execution_count": null,
   "metadata": {},
   "outputs": [],
   "source": []
  }
 ],
 "metadata": {
  "interpreter": {
   "hash": "d346de56ee689d77665e57d41d8ec43fce3a82d5e59fda7b7c0f5a986376d56b"
  },
  "kernelspec": {
   "display_name": "Python 3.6.0 64-bit ('ODBM': conda)",
   "name": "python3"
  },
  "language_info": {
   "codemirror_mode": {
    "name": "ipython",
    "version": 3
   },
   "file_extension": ".py",
   "mimetype": "text/x-python",
   "name": "python",
   "nbconvert_exporter": "python",
   "pygments_lexer": "ipython3",
   "version": "3.6.13"
  }
 },
 "nbformat": 4,
 "nbformat_minor": 4
}
