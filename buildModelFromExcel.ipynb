{
 "cells": [
  {
   "cell_type": "code",
   "execution_count": 1,
   "metadata": {},
   "outputs": [],
   "source": [
    "import pandas as pd"
   ]
  },
  {
   "cell_type": "code",
   "execution_count": 90,
   "metadata": {},
   "outputs": [],
   "source": [
    "model_species = pd.read_excel('C:/Users/rycar/Desktop/UW/BIOEN 537/model_definition_BIOEN537.xlsx', sheet_name = 'Species')\n",
    "model_rxns = pd.read_excel('C:/Users/rycar/Desktop/UW/BIOEN 537/model_definition_BIOEN537.xlsx', sheet_name = 'Reaction')\n"
   ]
  },
  {
   "cell_type": "code",
   "execution_count": 51,
   "metadata": {},
   "outputs": [],
   "source": [
    "#check mechanism\n",
    "\n",
    "#check if a concentration is held constant\n",
    "\n",
    "#function to add events\n"
   ]
  },
  {
   "cell_type": "code",
   "execution_count": 91,
   "metadata": {},
   "outputs": [],
   "source": [
    "#def initializeValues(model_species, model_rxns):\n",
    "\n",
    "model_str = ''\n",
    "model_str += '#Initialize concentrations \\n'\n",
    "for sp in model_species.iterrows():\n",
    "    model_str += (sp[1]['Label'] +'=' + str(sp[1]['Starting Conc']) + '; \\n')\n",
    "    \n",
    "model_str += '\\n#Initialize kinetic values \\n'\n",
    "for rxn in model_rxns.iterrows():\n",
    "    if not pd.isnull(model_rxns.iloc[rxn[0]]['K1']):\n",
    "        #initialize value\n",
    "        model_str += ('K1_'+rxn[1]['Label'] +'=' + str(rxn[1]['K1']) + '; \\n')\n",
    "    if not pd.isnull(model_rxns.iloc[rxn[0]]['K2']):\n",
    "        model_str += ('K2_'+rxn[1]['Label'] +'=' + str(rxn[1]['K2']) + '; \\n')\n",
    "    if not pd.isnull(model_rxns.iloc[rxn[0]]['K2']):\n",
    "        model_str += ('K3_'+rxn[1]['Label'] +'=' + str(rxn[1]['K3']) + '; \\n')\n",
    "\n",
    "with open('model.txt', 'w') as f:\n",
    "    f.write(model_str)\n",
    "    "
   ]
  },
  {
   "cell_type": "code",
   "execution_count": 89,
   "metadata": {},
   "outputs": [],
   "source": [
    "def writeReactions():"
   ]
  },
  {
   "cell_type": "code",
   "execution_count": null,
   "metadata": {},
   "outputs": [],
   "source": [
    "def addEvents():"
   ]
  },
  {
   "cell_type": "code",
   "execution_count": 92,
   "metadata": {},
   "outputs": [
    {
     "data": {
      "text/plain": [
       "'#Initialize concentrations \\nCO2=10.0; \\nGlycine=10.0; \\nSerine=2.0; \\nNH3=2.0; \\nPyruvic acid=2.0; \\nOxaloacetic acid=2.0; \\nMalic acid=2.0; \\nATP=10.0; \\nAMP=1.0; \\nADP=1.0; \\nNADH=10.0; \\nNAD+=1.0; \\nFdh=2.0; \\nShmt=2.0; \\nSda=2.0; \\nPCX=2.0; \\nMdh=2.0; \\nPPT=2.0; \\nPK=2.0; \\nFdh_DNA=0.2; \\nShmt_DNA=0.2; \\nSda_DNA=0.2; \\nPCX_DNA=0.2; \\nMdh_DNA=0.2; \\nPPT_DNA=0.2; \\nPK_DNA=0.2; \\nRNAP=6.0; \\nRibosome=8.0; \\nFdh_RNA=0.0; \\nShmt_RNA=0.0; \\nSda_RNA=0.0; \\nPCX_RNA=0.0; \\nMdh_RNA=0.0; \\nPPT_RNA=0.0; \\nPK_RNA=0.0; \\n\\n#Initialize kinetic values \\nK1_R1=0.2; \\nK1_R2=1.0; \\nK1_R3=1.0; \\nK1_R4=1.0; \\nK1_R5=0.2; \\nK1_R6=0.2; \\nK1_R7=0.2; \\nK1_R8=3.0; \\nK1_R9=3.0; \\nK1_R10=3.0; \\nK1_R11=3.0; \\nK1_R12=3.0; \\nK1_R13=3.0; \\nK1_R14=3.0; \\nK1_R15=1.0; \\nK1_R16=1.0; \\nK1_R17=1.0; \\nK1_R18=1.0; \\nK1_R19=1.0; \\nK1_R20=1.0; \\nK1_R21=1.0; \\n'"
      ]
     },
     "execution_count": 92,
     "metadata": {},
     "output_type": "execute_result"
    }
   ],
   "source": [
    "model_str"
   ]
  },
  {
   "cell_type": "code",
   "execution_count": null,
   "metadata": {},
   "outputs": [],
   "source": []
  }
 ],
 "metadata": {
  "kernelspec": {
   "display_name": "Python 3",
   "language": "python",
   "name": "python3"
  },
  "language_info": {
   "codemirror_mode": {
    "name": "ipython",
    "version": 3
   },
   "file_extension": ".py",
   "mimetype": "text/x-python",
   "name": "python",
   "nbconvert_exporter": "python",
   "pygments_lexer": "ipython3",
   "version": "3.7.6"
  }
 },
 "nbformat": 4,
 "nbformat_minor": 4
}
