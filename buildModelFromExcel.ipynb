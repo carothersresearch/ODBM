{
 "cells": [
  {
   "cell_type": "code",
   "execution_count": 1,
   "metadata": {},
   "outputs": [],
   "source": [
    "%reload_ext autoreload\n",
    "%autoreload 2\n",
    "import pandas as pd\n",
    "import numpy as np\n",
    "import tellurium as te\n",
    "from odbm.odbm import ModelBuilder, ModelHandler\n",
    "import matplotlib.pyplot as plt\n",
    "from odbm.vis import *\n",
    "from odbm.utils import extractParams, fmt, getStoich\n",
    "import itertools\n"
   ]
  },
  {
   "cell_type": "code",
   "execution_count": 2,
   "metadata": {},
   "outputs": [],
   "source": [
    "model_species = pd.read_excel('Examples/multi_enzyme_model.xlsx', sheet_name = 'Species & Base Mechanisms', engine = 'openpyxl').dropna('index','all')\n",
    "model_rxns = pd.read_excel('Examples/multi_enzyme_model.xlsx', sheet_name = 'Reaction', engine = 'openpyxl').dropna('index','all')"
   ]
  },
  {
   "cell_type": "code",
   "execution_count": 3,
   "metadata": {},
   "outputs": [],
   "source": [
    "expression_limit = 0.05 \n",
    "enzyme_ratio = {'Sda':1, 'PCX': 100, 'Mdh': 1}\n",
    "N_ratios = sum(enzyme_ratio.values())\n",
    "expression_fudge = 1/10\n",
    "enzymeInit = {k:expression_limit*expression_fudge/N_ratios*v for k,v in enzyme_ratio.items()}\n",
    "\n",
    "solubilities = {    'ATP' : 98.619,\n",
    "                    'Serine': 2380.952,\n",
    "                    'HCO3' : 1470.588,\n",
    "                    'NADH' : 150.739 \n",
    "                }\n",
    "sol_fudge = 1/20\n",
    "solubilities = {k:v*sol_fudge for k,v in solubilities.items()}\n",
    "solubilities['Serine'] = min(solubilities.values())\n",
    "\n",
    "for k,v in solubilities.items():\n",
    "    model_species.loc[model_species['Label'] == k,'StartingConc'] = v\n",
    "\n",
    "# constant_species = ['ATP','NADH']\n",
    "# # this kind of works\n",
    "# for s in constant_species:\n",
    "#     model_species.loc[model_species['Label'] == s,'Label'] = '$'+s\n",
    "\n",
    "serine_mw = 105.09\n",
    "malate_mw = 134.0874"
   ]
  },
  {
   "cell_type": "code",
   "execution_count": 4,
   "metadata": {},
   "outputs": [],
   "source": [
    "N = 100000\n",
    "init_serine = {'SERINE':10**np.random.uniform(np.log10(solubilities['Serine']/500), np.log10(solubilities['Serine']*2), N)}\n",
    "#plt.hist(serine.values())"
   ]
  },
  {
   "cell_type": "code",
   "execution_count": 10,
   "metadata": {},
   "outputs": [],
   "source": [
    "sdaV = list(map(lambda x:x.upper(),model_species[['Sda' in s for s in model_species['Label']]]['Label']))[:4]\n",
    "pcxV = list(map(lambda x:x.upper(),model_species[['PCX' in s for s in model_species['Label']]]['Label']))[:4]\n",
    "mdhV = list(map(lambda x:x.upper(),model_species[['Mdh' in s for s in model_species['Label']]]['Label']))[:4]\n",
    "init_DNA = {}\n",
    "for i,sda in enumerate(sdaV):\n",
    "    for j,pcx in enumerate(pcxV):\n",
    "        for k,mdh in enumerate(mdhV):\n",
    "            init_DNA['DNA_'+sda] = np.roll(np.append(10**np.random.uniform(np.log10(expression_limit/100), np.log10(expression_limit*10), int(N/len(sdaV))),np.zeros((int(N/len(sdaV))*(len(sdaV)-1)))),int(N/len(sdaV))*(i-1))\n",
    "            init_DNA['DNA_'+pcx] = np.roll(np.append(10**np.random.uniform(np.log10(expression_limit/100), np.log10(expression_limit*10), int(N/len(pcxV))),np.zeros((int(N/len(pcxV))*(len(pcxV)-1)))),int(N/len(pcxV))*(j-1))\n",
    "            init_DNA['DNA_'+mdh] = np.roll(np.append(10**np.random.uniform(np.log10(expression_limit/100), np.log10(expression_limit*10), int(N/len(mdhV))),np.zeros((int(N/len(mdhV))*(len(mdhV)-1)))),int(N/len(mdhV))*(k-1))"
   ]
  },
  {
   "cell_type": "code",
   "execution_count": 36,
   "metadata": {},
   "outputs": [],
   "source": [
    "tau = 4*60*60\n",
    "taus = {'tau_'+enz:10**np.random.uniform(np.log10(tau/4),np.log10(tau*2.5), N) for enz in [*sdaV,*pcxV,*mdhV]}"
   ]
  },
  {
   "cell_type": "code",
   "execution_count": 6,
   "metadata": {},
   "outputs": [],
   "source": [
    "fluxes = {'Pyruvate': 12.478089, 'Serine': 1.678, 'Malate': 6.267} #units of mmol/gDW*hr\n",
    "amounts = {'Pyruvate': 0.39, 'Serine': 0.068, 'Malate': 1.7} #units of mmol/gDW*hr\n",
    "\n",
    "prot_dilution_factor = 25*100\n",
    "\n",
    "def convertFlux(fluxes):\n",
    "    new_fluxes = {}\n",
    "    for f in fluxes:\n",
    "        new_fluxes[f] = (fluxes[f]*(3E-13)/(1E-15))/prot_dilution_factor/3600/amounts[f]\n",
    "    return new_fluxes\n",
    "\n",
    "new_fluxes = convertFlux(fluxes)\n",
    "\n",
    "keys = {'Pyruvate': 'k_R14', 'Serine': 'k_R13', 'Malate': 'k_R15'}\n",
    "siphon = {k:v for k,v in zip([keys[ky] for ky in new_fluxes.keys()], [10**np.random.uniform(np.log10(s/31), np.log10(s*31), N) for s in new_fluxes.values()])}"
   ]
  },
  {
   "cell_type": "code",
   "execution_count": 11,
   "metadata": {},
   "outputs": [],
   "source": [
    "params = {**siphon,**init_serine, **init_DNA}"
   ]
  },
  {
   "cell_type": "code",
   "execution_count": 38,
   "metadata": {},
   "outputs": [],
   "source": [
    "modelfile = 'Examples/multi_enzyme_model.txt'\n",
    "myModel = ModelBuilder(model_species, model_rxns)\n",
    "myModel.saveModel(modelfile)\n",
    "\n",
    "model = open(modelfile,'r').read()\n",
    "r  = te.loada(model)"
   ]
  },
  {
   "cell_type": "code",
   "execution_count": 201,
   "metadata": {},
   "outputs": [],
   "source": [
    "results_id = np.empty((len(sdaV), len(pcxV), len(mdhV)), dtype=int)\n",
    "results = []\n",
    "selections = list(map(fmt, myModel.species['Label'])) + list(myModel.rxns['Label']) + ['time']\n",
    "\n",
    "count = 0\n",
    "for i,sda in enumerate(sdaV):\n",
    "    for j,pcx in enumerate(pcxV):\n",
    "        for k,mdh in enumerate(mdhV):\n",
    "            r.resetAll()\n",
    "            r['SERINE'] = 3\n",
    "            r['k_R13'] = new_fluxes['Serine']\n",
    "            r['k_R14'] = 0\n",
    "            r['k_R15'] = 0\n",
    "            r['k_TXTL'] = expression_limit/8/20*10e6/3600\n",
    "\n",
    "\n",
    "            r['DNA_'+sda] = 1/10e6\n",
    "            r['DNA_'+pcx] = 1/10e6\n",
    "            r['DNA_'+mdh] = 1/10e6\n",
    "            results_id[i,j,k] = count\n",
    "            results.append(r.simulate(0,24*60*60,1000, selections=selections))\n",
    "            count += 1"
   ]
  },
  {
   "cell_type": "code",
   "execution_count": 202,
   "metadata": {},
   "outputs": [
    {
     "data": {
      "text/plain": [
       "(array([16.,  0., 32.,  0.,  0.,  0.,  0.,  0.,  0., 16.]),\n",
       " array([0.21589608, 0.27062646, 0.32535684, 0.38008722, 0.4348176 ,\n",
       "        0.48954798, 0.54427836, 0.59900874, 0.65373911, 0.70846949,\n",
       "        0.76319987]),\n",
       " <BarContainer object of 10 artists>)"
      ]
     },
     "execution_count": 202,
     "metadata": {},
     "output_type": "execute_result"
    },
    {
     "data": {
      "image/png": "[encoded data removed]",
      "text/plain": [
       "<Figure size 432x288 with 1 Axes>"
      ]
     },
     "metadata": {
      "needs_background": "light"
     },
     "output_type": "display_data"
    }
   ],
   "source": [
    "plt.hist([sum([r[v][-1] for v in [*sdaV,*pcxV,*mdhV]])/0.05*100 for r in results])"
   ]
  },
  {
   "cell_type": "code",
   "execution_count": 203,
   "metadata": {},
   "outputs": [
    {
     "data": {
      "text/plain": [
       "(array([16.,  0.,  0.,  0.,  0.,  0.,  0., 32.,  0., 16.]),\n",
       " array([ 760.48295133,  797.44649135,  834.41003137,  871.37357138,\n",
       "         908.3371114 ,  945.30065142,  982.26419143, 1019.22773145,\n",
       "        1056.19127147, 1093.15481148, 1130.1183515 ]),\n",
       " <BarContainer object of 10 artists>)"
      ]
     },
     "execution_count": 203,
     "metadata": {},
     "output_type": "execute_result"
    },
    {
     "data": {
      "image/png": "[encoded data removed]",
      "text/plain": [
       "<Figure size 432x288 with 1 Axes>"
      ]
     },
     "metadata": {
      "needs_background": "light"
     },
     "output_type": "display_data"
    }
   ],
   "source": [
    "plt.hist([max(r['MALICACID'])*malate_mw/(r['SERINE'][0]*serine_mw)*1000 for r in results])"
   ]
  },
  {
   "cell_type": "code",
   "execution_count": 204,
   "metadata": {},
   "outputs": [
    {
     "data": {
      "text/plain": [
       "3.5982704371897786e-05"
      ]
     },
     "execution_count": 204,
     "metadata": {},
     "output_type": "execute_result"
    },
    {
     "data": {
      "image/png": "[encoded data removed]",
      "text/plain": [
       "<Figure size 432x288 with 1 Axes>"
      ]
     },
     "metadata": {
      "needs_background": "light"
     },
     "output_type": "display_data"
    }
   ],
   "source": [
    "plt.plot(results[0]['time']/60/60,results[32][sdaV[2]])\n",
    "results[0][pcxV[0]][-1]"
   ]
  },
  {
   "cell_type": "code",
   "execution_count": 42,
   "metadata": {},
   "outputs": [
    {
     "data": {
      "text/plain": [
       "[<matplotlib.lines.Line2D at 0x245fbaeecc0>]"
      ]
     },
     "execution_count": 42,
     "metadata": {},
     "output_type": "execute_result"
    },
    {
     "data": {
      "image/png": "[encoded data removed]",
      "text/plain": [
       "<Figure size 432x288 with 1 Axes>"
      ]
     },
     "metadata": {
      "needs_background": "light"
     },
     "output_type": "display_data"
    }
   ],
   "source": [
    "df = pd.DataFrame(results[0], columns = results[0].colnames)\n",
    "df.round(2)\n",
    "plt.plot(df['time'],df['NADH'],  label = 'NADH')\n",
    "plt.plot(df['time'],df['ADP'], label = 'ADP')\n",
    "plt.plot(df['time'],df['HCO3'],  linestyle = 'dotted', label = 'CO2')\n",
    "\n",
    "#plt.xlim(0, 100)\n",
    "#plt.ylim(0,200)\n"
   ]
  },
  {
   "cell_type": "code",
   "execution_count": 43,
   "metadata": {},
   "outputs": [
    {
     "data": {
      "text/plain": [
       "[(0.0, 300.0), (0.0, 300.0), (0.0, 300.0)]"
      ]
     },
     "execution_count": 43,
     "metadata": {},
     "output_type": "execute_result"
    },
    {
     "data": {
      "image/png": "[encoded data removed]",
      "text/plain": [
       "<Figure size 1152x288 with 3 Axes>"
      ]
     },
     "metadata": {
      "needs_background": "light"
     },
     "output_type": "display_data"
    }
   ],
   "source": [
    "variants = (0,0,0) #define combination of variants to plot\n",
    "v_labels = [v[k] for v,k in zip([sdaV, pcxV, mdhV], variants)] #get variant names\n",
    "run = int(results_id[variants]) #return simulation run  # in which that combination was tested\n",
    "rxn_idx = [int(variants[0]),int(variants[1]+4), int(variants[2]+8)] #brute force method of getting reaction index for each variant\n",
    "f, ax = rxn_plot(myModel, results[run], rxn_idx, figsize=(16,4), titles = v_labels)\n",
    "[a.set_xlim([0,300]) for a in ax]"
   ]
  },
  {
   "cell_type": "code",
   "execution_count": 57,
   "metadata": {},
   "outputs": [
    {
     "data": {
      "image/png": "[encoded data removed]",
      "text/plain": [
       "<Figure size 432x288 with 1 Axes>"
      ]
     },
     "metadata": {
      "needs_background": "light"
     },
     "output_type": "display_data"
    }
   ],
   "source": [
    "plt.hist([((max(r['MALICACID'])*malate_mw)/(r['SERINE'][0]*serine_mw)*1000) for r in results]);\n",
    "plt.xlabel('yield (malate mg / serene g)');\n",
    "plt.ylabel('Number of Pathway Variants');"
   ]
  },
  {
   "cell_type": "code",
   "execution_count": 60,
   "metadata": {},
   "outputs": [
    {
     "data": {
      "text/plain": [
       "(0.0, 200.0)"
      ]
     },
     "execution_count": 60,
     "metadata": {},
     "output_type": "execute_result"
    },
    {
     "data": {
      "image/png": "[encoded data removed]",
      "text/plain": [
       "<Figure size 432x288 with 1 Axes>"
      ]
     },
     "metadata": {
      "needs_background": "light"
     },
     "output_type": "display_data"
    }
   ],
   "source": [
    "plt.plot(results[0]['R1'])\n",
    "plt.plot(results[0]['R13'])\n",
    "\n",
    "plt.xlim([0,200])\n"
   ]
  },
  {
   "cell_type": "code",
   "execution_count": 11,
   "metadata": {},
   "outputs": [
    {
     "data": {
      "text/plain": [
       "[<matplotlib.lines.Line2D at 0x1a5dc546e80>]"
      ]
     },
     "execution_count": 11,
     "metadata": {},
     "output_type": "execute_result"
    },
    {
     "data": {
      "image/png": "[encoded data removed]",
      "text/plain": [
       "<Figure size 432x288 with 1 Axes>"
      ]
     },
     "metadata": {
      "needs_background": "light"
     },
     "output_type": "display_data"
    }
   ],
   "source": [
    "plt.plot(results[0]['MALICACID'])"
   ]
  },
  {
   "cell_type": "code",
   "execution_count": 12,
   "metadata": {},
   "outputs": [],
   "source": [
    "modelfile = 'Examples/multi_enzyme_model.txt'\n",
    "myModel = ModelBuilder(model_species, model_rxns)\n",
    "myModel.saveModel(modelfile)\n",
    "\n",
    "model = open(modelfile,'r').read()\n",
    "MH = ModelHandler(model)\n",
    "\n",
    "selections = list(map(fmt, myModel.species['Label'])) + list(myModel.rxns['Label']) + ['time']\n",
    "MH.setSimParams(0,24*60*60,200, selections=selections)\n",
    "\n",
    "MH.setParameterScan(params)\n",
    "yld = lambda x: ((max(x['MALICACID'])*malate_mw)/(x['SERINE'][0]*serine_mw)*1000)\n"
   ]
  },
  {
   "cell_type": "code",
   "execution_count": 11,
   "metadata": {},
   "outputs": [],
   "source": [
    "res = MH.sensitivityAnalysis()"
   ]
  },
  {
   "cell_type": "code",
   "execution_count": 15,
   "metadata": {},
   "outputs": [],
   "source": [
    "ylds = np.array(list(map(yld,res)))"
   ]
  },
  {
   "cell_type": "code",
   "execution_count": 18,
   "metadata": {},
   "outputs": [
    {
     "data": {
      "text/plain": [
       "(array([137.,  61.,  38.,  15.,  11.,   4.,   5.,   2.,   2.,   1.]),\n",
       " array([200.17535389, 262.96681676, 325.75827963, 388.5497425 ,\n",
       "        451.34120537, 514.13266825, 576.92413112, 639.71559399,\n",
       "        702.50705686, 765.29851973, 828.0899826 ]),\n",
       " <BarContainer object of 10 artists>)"
      ]
     },
     "execution_count": 18,
     "metadata": {},
     "output_type": "execute_result"
    },
    {
     "data": {
      "image/png": "[encoded data removed]",
      "text/plain": [
       "<Figure size 432x288 with 1 Axes>"
      ]
     },
     "metadata": {
      "needs_background": "light"
     },
     "output_type": "display_data"
    }
   ],
   "source": [
    "plt.hist(ylds[ylds>200])"
   ]
  },
  {
   "cell_type": "code",
   "execution_count": 80,
   "metadata": {},
   "outputs": [
    {
     "ename": "NameError",
     "evalue": "name 'ylds' is not defined",
     "output_type": "error",
     "traceback": [
      "\u001b[1;31m---------------------------------------------------------------------------\u001b[0m",
      "\u001b[1;31mNameError\u001b[0m                                 Traceback (most recent call last)",
      "\u001b[1;32m<ipython-input-80-6eff86c2b196>\u001b[0m in \u001b[0;36m<module>\u001b[1;34m\u001b[0m\n\u001b[1;32m----> 1\u001b[1;33m \u001b[0mpd\u001b[0m\u001b[1;33m.\u001b[0m\u001b[0mDataFrame\u001b[0m\u001b[1;33m(\u001b[0m\u001b[1;33m{\u001b[0m\u001b[1;33m**\u001b[0m\u001b[0mparams\u001b[0m\u001b[1;33m,\u001b[0m\u001b[1;34m'yld'\u001b[0m\u001b[1;33m:\u001b[0m\u001b[0mylds\u001b[0m\u001b[1;33m}\u001b[0m\u001b[1;33m)\u001b[0m\u001b[1;33m.\u001b[0m\u001b[0mcorr\u001b[0m\u001b[1;33m(\u001b[0m\u001b[1;33m)\u001b[0m\u001b[1;33m[\u001b[0m\u001b[1;34m'yld'\u001b[0m\u001b[1;33m]\u001b[0m\u001b[1;33m\u001b[0m\u001b[1;33m\u001b[0m\u001b[0m\n\u001b[0m",
      "\u001b[1;31mNameError\u001b[0m: name 'ylds' is not defined"
     ]
    }
   ],
   "source": [
    "pd.DataFrame({**params,'yld':ylds}).corr()['yld']"
   ]
  },
  {
   "cell_type": "code",
   "execution_count": 13,
   "metadata": {},
   "outputs": [
    {
     "data": {
      "text/plain": [
       "k_R14             960.969969\n",
       "k_R13             960.882765\n",
       "k_R15             960.976014\n",
       "SERINE            999.808333\n",
       "DNA_SDA_MSMEG     998.904160\n",
       "DNA_PCX_RETLI     999.775035\n",
       "DNA_MDH_ECOLI     998.988728\n",
       "DNA_MDH_MDOM      999.858128\n",
       "DNA_MDH_REMER     999.523782\n",
       "DNA_MDH_TAES      999.652582\n",
       "DNA_PCX_SCER      999.158873\n",
       "DNA_PCX_MSMEG     999.152753\n",
       "DNA_PCX_GTHERM    999.276949\n",
       "DNA_SDA_BSUB      998.942758\n",
       "DNA_SDA_ECOLI     999.339665\n",
       "DNA_SDA_LPNEU     999.022972\n",
       "dtype: float64"
      ]
     },
     "execution_count": 13,
     "metadata": {},
     "output_type": "execute_result"
    }
   ],
   "source": [
    "pd.DataFrame(params)[pd.DataFrame(params)>0].max()/pd.DataFrame(params)[pd.DataFrame(params)>0].min()"
   ]
  },
  {
   "cell_type": "code",
   "execution_count": 14,
   "metadata": {},
   "outputs": [
    {
     "data": {
      "text/plain": [
       "<AxesSubplot:>"
      ]
     },
     "execution_count": 14,
     "metadata": {},
     "output_type": "execute_result"
    },
    {
     "data": {
      "image/png": "[encoded data removed]",
      "text/plain": [
       "<Figure size 432x288 with 1 Axes>"
      ]
     },
     "metadata": {
      "needs_background": "light"
     },
     "output_type": "display_data"
    }
   ],
   "source": [
    "(0.2/pd.DataFrame(params)['SERINE']*100).hist()"
   ]
  },
  {
   "cell_type": "code",
   "execution_count": 127,
   "metadata": {},
   "outputs": [
    {
     "data": {
      "text/plain": [
       "56346"
      ]
     },
     "execution_count": 127,
     "metadata": {},
     "output_type": "execute_result"
    }
   ],
   "source": [
    "sum(pd.DataFrame(params)['SERINE']>0.2)"
   ]
  },
  {
   "cell_type": "code",
   "execution_count": null,
   "metadata": {},
   "outputs": [],
   "source": []
  }
 ],
 "metadata": {
  "interpreter": {
   "hash": "755dde02eea23f4a8c162cda7a56ff393ac89ba42167493bc1bda740cb5369e9"
  },
  "kernelspec": {
   "display_name": "Python 3.6.13 64-bit ('ODBM': conda)",
   "name": "python3"
  },
  "language_info": {
   "codemirror_mode": {
    "name": "ipython",
    "version": 3
   },
   "file_extension": ".py",
   "mimetype": "text/x-python",
   "name": "python",
   "nbconvert_exporter": "python",
   "pygments_lexer": "ipython3",
   "version": "3.6.13"
  }
 },
 "nbformat": 4,
 "nbformat_minor": 4
}
